{
 "cells": [
  {
   "cell_type": "markdown",
   "id": "bd9571d8-bd30-46ed-b9c3-335c6b5f50b7",
   "metadata": {},
   "source": [
    "## Generate Random Latitudes and Longitudes\n",
    "### The random Module"
   ]
  },
  {
   "cell_type": "code",
   "execution_count": 1,
   "id": "9dc542c3-6bdf-4278-9f1a-5715eb8e1cfd",
   "metadata": {},
   "outputs": [],
   "source": [
    "# Import the random module.\n",
    "import random\n",
    "\n",
    "# Import the NumPy module.\n",
    "    # Recall that the NumPy module is a numerical mathematics library that can be used to make arrays or matrices of numbers.\n",
    "    # NOTE: The NumPy module has a built-in random module, and supplements the built-in Python random module. There is no need to import the random module if we import the NumPy module, as it's redundant.\n",
    "import numpy as np\n",
    "\n",
    "#To test how long a piece of code or function takes to run, we can import the \"timeit\" module and use the %timeit magic command when we run our code or call the function.\n",
    "import timeit"
   ]
  },
  {
   "cell_type": "markdown",
   "id": "88d67892-3318-4c65-993e-19b425f41d80",
   "metadata": {},
   "source": [
    "##### The randint() Function\n",
    "randint is short for \"random integer.\" When we run this cell, we'll get a single integer between –90 and 90 because we need two latitudes between –90 and 90. This function will only return one integer, not a floating-point decimal, between the given intervals."
   ]
  },
  {
   "cell_type": "code",
   "execution_count": 2,
   "id": "5823b03f-7e58-4209-bbc8-ccb0ce6cc3b3",
   "metadata": {},
   "outputs": [
    {
     "data": {
      "text/plain": [
       "10"
      ]
     },
     "execution_count": 2,
     "metadata": {},
     "output_type": "execute_result"
    }
   ],
   "source": [
    "random.randint(-90, 90)"
   ]
  },
  {
   "cell_type": "markdown",
   "id": "5bd56e7f-1448-462e-81fe-c589cd288927",
   "metadata": {},
   "source": [
    "##### The random() Function\n",
    "Using the random() function, we can get a single floating-point decimal number between 0 and 1.0."
   ]
  },
  {
   "cell_type": "code",
   "execution_count": 3,
   "id": "2b2b59ba-67eb-4660-8143-ec53e06a0bbe",
   "metadata": {},
   "outputs": [
    {
     "data": {
      "text/plain": [
       "0.4283247021026131"
      ]
     },
     "execution_count": 3,
     "metadata": {},
     "output_type": "execute_result"
    }
   ],
   "source": [
    "random.random()"
   ]
  },
  {
   "cell_type": "markdown",
   "id": "2f3ded84-5129-428b-b3d2-36807f4e3305",
   "metadata": {},
   "source": [
    "The random() function may help us. This function returns only a floating-point decimal number between 0 and 1.0. If we combine random.randint(-90, 89) and random.random() to generate a floating-point decimal between –90 and 90, we can generate a random latitude. We changed the lower range of the randint() because we want whole numbers up to 89, so when we add the floating-point decimal number, we'll generate latitudes between –89.99999 and 89.99999."
   ]
  },
  {
   "cell_type": "code",
   "execution_count": 4,
   "id": "26da7581-b28b-4c92-b2fa-2e798a1f4bda",
   "metadata": {},
   "outputs": [
    {
     "data": {
      "text/plain": [
       "-25.458687727456713"
      ]
     },
     "execution_count": 4,
     "metadata": {},
     "output_type": "execute_result"
    }
   ],
   "source": [
    "random.randint(-90, 89) + random.random()"
   ]
  },
  {
   "cell_type": "markdown",
   "id": "55267378-095d-4951-920f-995b99ac816f",
   "metadata": {},
   "source": [
    "Using these two functions, we can write an algorithm that will generate latitudes between –90 and 89. Here is a small sample of what it might take to generate ten random floating-point decimal latitudes between –90 and 89."
   ]
  },
  {
   "cell_type": "code",
   "execution_count": 5,
   "id": "c02993e8-870c-46f8-9c64-40cc499c9619",
   "metadata": {},
   "outputs": [
    {
     "data": {
      "text/plain": [
       "[26.529904589420806,\n",
       " 61.88407504296437,\n",
       " 87.95689388138882,\n",
       " 2.0966384020923647,\n",
       " 60.25639723397752,\n",
       " -62.91366723743305,\n",
       " 35.806256509428195,\n",
       " -8.70107191286327,\n",
       " 2.625731281445681,\n",
       " 25.07158845333319]"
      ]
     },
     "execution_count": 5,
     "metadata": {},
     "output_type": "execute_result"
    }
   ],
   "source": [
    "# 1) Assign the variable x to 1.\n",
    "# 2) Initialize an empty list, latitudes.\n",
    "# 3) We create a while loop where we generate a random latitude and add it to the list. With the while loop we can execute a set of statements as long as a condition is true.\n",
    "    # to be ready, in this example we need to define an indexing variable, x, which we set to 1.\n",
    "    # 3a) create variable random_lat for combining random.randint(-90, 89) and random.random() to generate a floating-point decimal between –90 and 90, we can generate a random latitude. The while loop requires relevant variables \n",
    "    # 3b) Append to random numbers to our empty list, latitudes\n",
    "    # 4a) After the random latitude is added to the list we add one to the variable \"x\".\n",
    "           # += Adds a value and the variable and assigns the result to that variable.\n",
    "#4 ) The while loop condition is checked again and will continue to run as long as x is less than 11.\n",
    "\n",
    "\n",
    "x = 1 \n",
    "latitudes = []\n",
    "while x < 11:\n",
    "    random_lat = random.randint(-90, 89) + random.random()\n",
    "    latitudes.append(random_lat)\n",
    "    x += 1\n",
    "    \n",
    "latitudes"
   ]
  },
  {
   "cell_type": "markdown",
   "id": "d190501b-7aae-4615-8317-666afaa86610",
   "metadata": {},
   "source": [
    "##### The randrange() Function\n",
    "For the randrange() function, there is an option to add a step parameter and set it equal to an integer, which will generate increments of a given integer value, from the lower to the upper limit. For example, add random.randrange(-90, 90, step=1) to a new cell and run the cell. The output is a number between -90 and 90, where the step is the difference between each number in the sequence. Now add random.randrange(-90, 90, step=3) to a new cell and run the cell. The output is a number between -90 and 90, where the difference between each number in the sequence is 3. If you don't add the step parameter, the output will be a number with an increment of 1, which is the default integer value."
   ]
  },
  {
   "cell_type": "code",
   "execution_count": 6,
   "id": "260678ab-8dd3-44f1-b119-1eb0afe26b9c",
   "metadata": {},
   "outputs": [
    {
     "name": "stdout",
     "output_type": "stream",
     "text": [
      "-64 -60\n"
     ]
    }
   ],
   "source": [
    "rangeint1 = random.randrange(-90, 90, 1)\n",
    "rangeint3 = random.randrange(-90, 90, 3)\n",
    "print(rangeint1, rangeint3)"
   ]
  },
  {
   "cell_type": "markdown",
   "id": "c67f5955-ce53-4742-9e24-ea68c8971c4b",
   "metadata": {},
   "source": [
    "##### The uniform() Function\n",
    "The uniform() function will allow us to generate a floating-point decimal number between two given numbers inside the parentheses."
   ]
  },
  {
   "cell_type": "code",
   "execution_count": 7,
   "id": "68ccfb59-80d6-488e-aeba-6ba24eb37eba",
   "metadata": {},
   "outputs": [
    {
     "data": {
      "text/plain": [
       "-38.67786921893163"
      ]
     },
     "execution_count": 7,
     "metadata": {},
     "output_type": "execute_result"
    }
   ],
   "source": [
    "random.uniform(-90, 90)"
   ]
  },
  {
   "cell_type": "markdown",
   "id": "c7d21267-2398-4599-bced-61a8695086ec",
   "metadata": {},
   "source": [
    "### The NumPy and random Modules\n",
    "One way to generate more than a thousand latitudes and longitudes is to chain the NumPy module to the random module to create an array of latitudes or longitudes between the lowest and highest values, or –90° and 90°, and –180° and 180°, respectively. To accomplish this, we'll use the uniform() function from the random module.\n",
    "\n",
    "np.random.uniform(-90.000, 90.000) or np.random.uniform(low=-90, high=90)\n",
    "In the next cell add np.random.uniform(-90.000, 90.000) to generate a floating-point decimal number between –90.000 and 90.000. Adding the zeros past the decimal places is optional. When we use the NumPy module with the random.uniform() function, the parenthetical parameters contain a lower boundary (low value) and an upper boundary (high value) that are floating-point decimal numbers.\n",
    "Another option is to write the parameters as np.random.uniform(low=-90, high=90)."
   ]
  },
  {
   "cell_type": "code",
   "execution_count": 8,
   "id": "50ae7447-e771-4ab0-a311-bd47633beb8b",
   "metadata": {},
   "outputs": [
    {
     "data": {
      "text/plain": [
       "-1.8366592705844056"
      ]
     },
     "execution_count": 8,
     "metadata": {},
     "output_type": "execute_result"
    }
   ],
   "source": [
    "np.random.uniform(-90.000, 90.000)"
   ]
  },
  {
   "cell_type": "markdown",
   "id": "0475d2a3-f659-435d-95cf-e34f4e1db01d",
   "metadata": {},
   "source": [
    "np.random.uniform(-90.000, 90.000, size=50) To generate more than one floating-point decimal number between –90 and 90, we can add the size parameter when we use the NumPy module and set that equal to any whole number."
   ]
  },
  {
   "cell_type": "code",
   "execution_count": 9,
   "id": "e37a324a-879e-45df-9cc9-7e55d1a2efa9",
   "metadata": {},
   "outputs": [
    {
     "data": {
      "text/plain": [
       "array([-69.94817169,  57.93637151, -70.9303665 ,  41.46670477,\n",
       "       -78.51333283,  14.3175067 ,  76.31296415, -17.85490723,\n",
       "        88.45570991, -47.05932544])"
      ]
     },
     "execution_count": 9,
     "metadata": {},
     "output_type": "execute_result"
    }
   ],
   "source": [
    "np.random.uniform(-90.000, 90.000, 10)"
   ]
  },
  {
   "cell_type": "markdown",
   "id": "16836918-1596-4a55-bb04-60c13e6df240",
   "metadata": {},
   "source": [
    "##### %timeit \n",
    "To test how long a piece of code or function takes to run, we can import the \"timeit\" module and use the %timeit magic command when we run our code or call the function. When we run the cell, the output is the amount of time it took to run the code for 7 runs and 1,000 loops per run. The output is the amount of time it took to run this code, which is an average of 2.81 microseconds. The amount of time it takes to run this code depends on the processing speed and the RAM of your computer."
   ]
  },
  {
   "cell_type": "code",
   "execution_count": 10,
   "id": "20fbcc79-6cfb-4760-9ceb-03640ac408fb",
   "metadata": {},
   "outputs": [
    {
     "name": "stdout",
     "output_type": "stream",
     "text": [
      "2.71 µs ± 32.7 ns per loop (mean ± std. dev. of 7 runs, 100000 loops each)\n"
     ]
    }
   ],
   "source": [
    "%timeit np.random.uniform(-90.000, 90.000, 10)"
   ]
  },
  {
   "cell_type": "code",
   "execution_count": 11,
   "id": "9c546db3-a230-4907-a4df-468982e9e941",
   "metadata": {},
   "outputs": [
    {
     "name": "stdout",
     "output_type": "stream",
     "text": [
      "1.72 ms ± 31.3 µs per loop (mean ± std. dev. of 7 runs, 1000 loops each)\n"
     ]
    }
   ],
   "source": [
    "def latitudes(size):\n",
    "    latitudes = []\n",
    "    x = 0\n",
    "    while x < (size):\n",
    "        random_lat = random.randint(-90, 90) + random.random()\n",
    "        latitudes.append(random_lat)\n",
    "        x += 1\n",
    "    return latitudes\n",
    "# Call the function with 1500.\n",
    "%timeit latitudes(1500)"
   ]
  },
  {
   "cell_type": "markdown",
   "id": "8c8823c8-e677-42bc-8dfb-6bee4f1879a4",
   "metadata": {},
   "source": [
    "SKILL DRILL: Refactor the code for the while loop with the %timeit magic command and write a for loop that will generate the 1,500 latitudes."
   ]
  },
  {
   "cell_type": "code",
   "execution_count": 12,
   "id": "29e5b884-59d3-4a49-9994-f0c334d40ba5",
   "metadata": {},
   "outputs": [
    {
     "name": "stdout",
     "output_type": "stream",
     "text": [
      "5.82 µs ± 167 ns per loop (mean ± std. dev. of 7 runs, 100000 loops each)\n"
     ]
    },
    {
     "data": {
      "text/plain": [
       "[35.11442937893523,\n",
       " 67.4645648275666,\n",
       " -77.42763193384519,\n",
       " 42.38305345382633,\n",
       " 83.6184490857379]"
      ]
     },
     "execution_count": 12,
     "metadata": {},
     "output_type": "execute_result"
    }
   ],
   "source": [
    "def time_latitude(x):\n",
    "    latitude = latitudes(x)\n",
    "    %timeit latitudes(x)\n",
    "    \n",
    "    return latitude\n",
    "\n",
    "time_latitude(5) "
   ]
  },
  {
   "cell_type": "markdown",
   "id": "a9b674ed-3bd0-4dcf-b9e1-d1fa9bec6bd8",
   "metadata": {},
   "source": [
    "##### zip() function\n",
    "pack the latitudes (x) and longitudes (y) as pairs by zipping them (lat_lngs) with the zip() function."
   ]
  },
  {
   "cell_type": "code",
   "execution_count": 13,
   "id": "040bf572-59fd-40a9-8a0a-8a889934f5f6",
   "metadata": {},
   "outputs": [],
   "source": [
    "# Create a practice set of random latitude and longitude combinations.\n",
    "x = [25.12903645, 25.92017388, 26.62509167, -59.98969384, 37.30571269]\n",
    "y = [-67.59741259, 11.09532135, 74.84233102, -76.89176677, -61.13376282]\n",
    "coordinates = zip(x, y)"
   ]
  },
  {
   "cell_type": "code",
   "execution_count": 14,
   "id": "2cd6b4f6-e6bd-4c8a-b9ae-c0a0dd5ab889",
   "metadata": {},
   "outputs": [
    {
     "name": "stdout",
     "output_type": "stream",
     "text": [
      "25.12903645 -67.59741259\n",
      "25.92017388 11.09532135\n",
      "26.62509167 74.84233102\n",
      "-59.98969384 -76.89176677\n",
      "37.30571269 -61.13376282\n"
     ]
    }
   ],
   "source": [
    "# Use the tuple() function to display the latitude and longitude combinations.\n",
    "for coordinate in coordinates:\n",
    "    print(coordinate[0], coordinate[1])"
   ]
  },
  {
   "cell_type": "markdown",
   "id": "e55a5d9f-05e0-42e4-a3f2-4f477f22a4f9",
   "metadata": {},
   "source": [
    "Next, use the five pairs of latitudes and longitudes we used from our zip practice to get a city and country code from the citipy module.\n",
    "\n",
    "In a new cell, create a for loop that will do the following:\n",
    "\n",
    "1) Using a for loop, iterate through the coordinates' zipped tuple.\n",
    "2) Use citipy.nearest_city() and inside the parentheses of nearest_city(), add the latitude and longitude in this format: coordinate[0], coordinate[1].\n",
    "    2a) The citipy module finds the nearest city to the latitude and longitude pair with a population of 500 or more.\n",
    "    2b) Because of the zip function The zip object packs each pair of lats and lngs having the same index in their respective array into a tuple. Where each latitude and longitude in a tuple can be       accessed by the index of 0 and 1\n",
    "3) To print the city name, chain the city_name to the nearest_city() function.\n",
    "4) To print the country name, chain the country_code to the nearest_city() function."
   ]
  },
  {
   "cell_type": "code",
   "execution_count": 15,
   "id": "9ecb0204-95c2-4b18-83cb-afd961d1f2cf",
   "metadata": {},
   "outputs": [],
   "source": [
    "# Use the tuple() function to display the latitude and longitude combinations.\n",
    "for coordinate in coordinates:\n",
    "    print(citipy.nearest_city(coordinate[0], coordinate[1]).city_name,\n",
    "          citipy.nearest_city(coordinate[0], coordinate[1]).country_code)"
   ]
  },
  {
   "cell_type": "code",
   "execution_count": 15,
   "id": "85ec73ae-0c1c-4e2e-877a-28541e018c31",
   "metadata": {},
   "outputs": [],
   "source": [
    "# 1)\n",
    "# 2)\n",
    "# 3)\n",
    "# 4) \n",
    "# 5)"
   ]
  }
 ],
 "metadata": {
  "kernelspec": {
   "display_name": "PythonData",
   "language": "python",
   "name": "pythondata"
  },
  "language_info": {
   "codemirror_mode": {
    "name": "ipython",
    "version": 3
   },
   "file_extension": ".py",
   "mimetype": "text/x-python",
   "name": "python",
   "nbconvert_exporter": "python",
   "pygments_lexer": "ipython3",
   "version": "3.7.10"
  }
 },
 "nbformat": 4,
 "nbformat_minor": 5
}
