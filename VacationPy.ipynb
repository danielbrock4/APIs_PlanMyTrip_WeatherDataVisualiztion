{
 "cells": [
  {
   "cell_type": "markdown",
   "id": "87a14c9d-cc5d-42c8-a8d3-02316ae521f0",
   "metadata": {},
   "source": [
    "# Create Heatmaps for Weather Parameters"
   ]
  },
  {
   "cell_type": "code",
   "execution_count": 1,
   "id": "b3bf8f75-313c-4fb4-9aee-27e329eb88e8",
   "metadata": {},
   "outputs": [],
   "source": [
    "# Import the dependencies.\n",
    "import pandas as pd\n",
    "import gmaps\n",
    "import requests\n",
    "# Import the API key.\n",
    "from config import g_key"
   ]
  },
  {
   "cell_type": "code",
   "execution_count": 2,
   "id": "af3fb951-1dea-4f81-97b8-f77b1355081f",
   "metadata": {},
   "outputs": [
    {
     "data": {
      "text/html": [
       "<div>\n",
       "<style scoped>\n",
       "    .dataframe tbody tr th:only-of-type {\n",
       "        vertical-align: middle;\n",
       "    }\n",
       "\n",
       "    .dataframe tbody tr th {\n",
       "        vertical-align: top;\n",
       "    }\n",
       "\n",
       "    .dataframe thead th {\n",
       "        text-align: right;\n",
       "    }\n",
       "</style>\n",
       "<table border=\"1\" class=\"dataframe\">\n",
       "  <thead>\n",
       "    <tr style=\"text-align: right;\">\n",
       "      <th></th>\n",
       "      <th>City_ID</th>\n",
       "      <th>City</th>\n",
       "      <th>Country</th>\n",
       "      <th>Date</th>\n",
       "      <th>Lat</th>\n",
       "      <th>Lng</th>\n",
       "      <th>Max Temp</th>\n",
       "      <th>Humidity</th>\n",
       "      <th>Cloudiness</th>\n",
       "      <th>Wind Speed</th>\n",
       "    </tr>\n",
       "  </thead>\n",
       "  <tbody>\n",
       "    <tr>\n",
       "      <th>0</th>\n",
       "      <td>0</td>\n",
       "      <td>Krasnaya Gorbatka</td>\n",
       "      <td>RU</td>\n",
       "      <td>2021-12-01 23:49:04</td>\n",
       "      <td>55.8703</td>\n",
       "      <td>41.7641</td>\n",
       "      <td>24.37</td>\n",
       "      <td>75</td>\n",
       "      <td>100</td>\n",
       "      <td>11.18</td>\n",
       "    </tr>\n",
       "    <tr>\n",
       "      <th>1</th>\n",
       "      <td>1</td>\n",
       "      <td>Atuona</td>\n",
       "      <td>PF</td>\n",
       "      <td>2021-12-01 23:49:04</td>\n",
       "      <td>-9.8000</td>\n",
       "      <td>-139.0333</td>\n",
       "      <td>78.58</td>\n",
       "      <td>79</td>\n",
       "      <td>57</td>\n",
       "      <td>21.27</td>\n",
       "    </tr>\n",
       "    <tr>\n",
       "      <th>2</th>\n",
       "      <td>2</td>\n",
       "      <td>Leh</td>\n",
       "      <td>IN</td>\n",
       "      <td>2021-12-01 23:49:04</td>\n",
       "      <td>34.1667</td>\n",
       "      <td>77.5833</td>\n",
       "      <td>18.97</td>\n",
       "      <td>50</td>\n",
       "      <td>97</td>\n",
       "      <td>3.02</td>\n",
       "    </tr>\n",
       "    <tr>\n",
       "      <th>3</th>\n",
       "      <td>3</td>\n",
       "      <td>Severo-Kurilsk</td>\n",
       "      <td>RU</td>\n",
       "      <td>2021-12-01 23:49:05</td>\n",
       "      <td>50.6789</td>\n",
       "      <td>156.1250</td>\n",
       "      <td>42.03</td>\n",
       "      <td>91</td>\n",
       "      <td>100</td>\n",
       "      <td>20.85</td>\n",
       "    </tr>\n",
       "    <tr>\n",
       "      <th>4</th>\n",
       "      <td>4</td>\n",
       "      <td>La Ronge</td>\n",
       "      <td>CA</td>\n",
       "      <td>2021-12-01 23:49:05</td>\n",
       "      <td>55.1001</td>\n",
       "      <td>-105.2842</td>\n",
       "      <td>14.25</td>\n",
       "      <td>85</td>\n",
       "      <td>90</td>\n",
       "      <td>6.91</td>\n",
       "    </tr>\n",
       "  </tbody>\n",
       "</table>\n",
       "</div>"
      ],
      "text/plain": [
       "   City_ID               City Country                 Date      Lat       Lng  \\\n",
       "0        0  Krasnaya Gorbatka      RU  2021-12-01 23:49:04  55.8703   41.7641   \n",
       "1        1             Atuona      PF  2021-12-01 23:49:04  -9.8000 -139.0333   \n",
       "2        2                Leh      IN  2021-12-01 23:49:04  34.1667   77.5833   \n",
       "3        3     Severo-Kurilsk      RU  2021-12-01 23:49:05  50.6789  156.1250   \n",
       "4        4           La Ronge      CA  2021-12-01 23:49:05  55.1001 -105.2842   \n",
       "\n",
       "   Max Temp  Humidity  Cloudiness  Wind Speed  \n",
       "0     24.37        75         100       11.18  \n",
       "1     78.58        79          57       21.27  \n",
       "2     18.97        50          97        3.02  \n",
       "3     42.03        91         100       20.85  \n",
       "4     14.25        85          90        6.91  "
      ]
     },
     "execution_count": 2,
     "metadata": {},
     "output_type": "execute_result"
    }
   ],
   "source": [
    "# Store the CSV you saved created in part one into a DataFrame.\n",
    "city_data_df = pd.read_csv(\"weather_data/cities.csv\")\n",
    "city_data_df.head()"
   ]
  },
  {
   "cell_type": "markdown",
   "id": "977b20cb-917d-4172-8ec3-d0282822f8a4",
   "metadata": {},
   "source": [
    "One caveat to using gmaps: The data we use for any mapping must be either an integer or a floating-point decimal number. Let's check the data types for the columns of our DataFrame."
   ]
  },
  {
   "cell_type": "code",
   "execution_count": 3,
   "id": "a550de02-00b6-4bef-8520-dbf22e67d1e8",
   "metadata": {},
   "outputs": [
    {
     "data": {
      "text/plain": [
       "City_ID         int64\n",
       "City           object\n",
       "Country        object\n",
       "Date           object\n",
       "Lat           float64\n",
       "Lng           float64\n",
       "Max Temp      float64\n",
       "Humidity        int64\n",
       "Cloudiness      int64\n",
       "Wind Speed    float64\n",
       "dtype: object"
      ]
     },
     "execution_count": 3,
     "metadata": {},
     "output_type": "execute_result"
    }
   ],
   "source": [
    "# Get the data types\n",
    "city_data_df.dtypes"
   ]
  },
  {
   "cell_type": "markdown",
   "id": "62bb8b29-854f-400e-b59c-76b93f65d9e7",
   "metadata": {},
   "source": [
    "## Create a Maximum Temperature Heatmap\n"
   ]
  },
  {
   "cell_type": "code",
   "execution_count": 4,
   "id": "eafddd98-c798-4cd4-8df7-bddb86a25d48",
   "metadata": {},
   "outputs": [],
   "source": [
    "# Configure gmaps to use your Google API key.\n",
    "gmaps.configure(api_key=g_key)"
   ]
  },
  {
   "cell_type": "markdown",
   "id": "df17a295-969b-4ec3-aa1e-337dbbe47810",
   "metadata": {},
   "source": [
    "Next, create the heatmap for the maximum temperature. The general syntax for creating a heatmap is as follows.\n",
    "\n",
    "Google heatmaps do not plot negative numbers. If you have a maximum temperature that is less than 0 °F, then you will get an InvalidWeightException error for this line of code:\n",
    "\n",
    "To remove the negative temperatures we can use a for loop to iterate through the max_temp and add the temperatures that are greater than 0 °F to a new list.\n",
    "\n"
   ]
  },
  {
   "cell_type": "code",
   "execution_count": 5,
   "id": "096b6300-974f-4a5a-b058-31b7c4e65cd3",
   "metadata": {},
   "outputs": [],
   "source": [
    "# # Get the maximum temperature.\n",
    "# max_temp = city_data_df[\"Max Temp\"]\n",
    "# temps = []\n",
    "# for temp in max_temp:\n",
    "#     # In the for loop, we're using the max() function to get the largest value between the temp and 0. \n",
    "#     #If the temp is less than 0, then 0 will be added to the list in its place. Otherwise, \n",
    "#     #the temp is added to the list\n",
    "#     temps.append(max(temp, 0))"
   ]
  },
  {
   "cell_type": "code",
   "execution_count": 6,
   "id": "59fcaed3-6739-4a7a-b93d-ab6b1841bbf2",
   "metadata": {},
   "outputs": [
    {
     "data": {
      "application/vnd.jupyter.widget-view+json": {
       "model_id": "c588d3111152478bbd0c9694a325caf4",
       "version_major": 2,
       "version_minor": 0
      },
      "text/plain": [
       "Figure(layout=FigureLayout(height='420px'))"
      ]
     },
     "metadata": {},
     "output_type": "display_data"
    }
   ],
   "source": [
    "# Heatmap of temperature\n",
    "\n",
    "# 1. Assign the locations to an array of latitude and longitude pairs.\n",
    "locations = city_data_df[[\"Lat\", \"Lng\"]]\n",
    "\n",
    "# 2. Assign the weights variable to some values.\n",
    "    # Google heatmaps do not plot negative numbers. If you have a maximum temperature that is less than 0 °F, then you will get an InvalidWeightException error for this line of code:\n",
    "max_temp = city_data_df[\"Max Temp\"]\n",
    "\n",
    "# 3. Assign the figure variable to the gmaps.figure() attribute.\n",
    "    #Add the geographic center of Earth in the form of latitude and longitude (30.0° N and 31.0° E). Also, add a zoom level so that only one map of Earth is shown.\n",
    "fig = gmaps.figure(center=(30.0, 31.0), zoom_level=2.0)\n",
    "\n",
    "# 4. Assign the heatmap_layer variable to the heatmap_layer attribute and add in the locations.\n",
    "# heat_layer = gmaps.heatmap_layer(locations, weights=max_temp)\n",
    "heat_layer = gmaps.heatmap_layer(locations, weights=[max(temp, 0) for temp in max_temp], dissipating=False, max_intensity=300, point_radius=4)\n",
    "                                 \n",
    "# 5. Add the heatmap layer.\n",
    "fig.add_layer(heat_layer)\n",
    "\n",
    "# 6. Call the figure to plot the data.\n",
    "fig"
   ]
  },
  {
   "cell_type": "markdown",
   "id": "c63c78cf",
   "metadata": {},
   "source": [
    "### Adjust Heatmap Zoom, Intensity, and Point Radius\n",
    "\n",
    "First, add the geographic center of Earth in the form of latitude and longitude (30.0° N and 31.0° E). Also, add a zoom level so that only one map of Earth is shown.\n",
    "\n",
    "If you review the gmaps documentation, you may notice there is a dissipation option for creating heatmaps that can be added to the gmaps.heat_layer() attribute.\n",
    "\n",
    "The options for this are:\n",
    "1. The default option for the dissipation is \"True,\" so we need to set our \"dissipation\" to \"False.\"\n",
    "2. We can add max_intensity to make each measurement have a better gradient variance.\n",
    "3. We can add point_radius to make each measurement radius larger.\n",
    "\n",
    "Also, you'll have to tweak these values until you are satisfied with the final map."
   ]
  },
  {
   "cell_type": "markdown",
   "id": "31008fa0",
   "metadata": {},
   "source": [
    "## Create a Percent Humidity Heatmap\n"
   ]
  },
  {
   "cell_type": "code",
   "execution_count": 7,
   "id": "318da675",
   "metadata": {},
   "outputs": [
    {
     "data": {
      "application/vnd.jupyter.widget-view+json": {
       "model_id": "81b3c1be9f8d48b089fd823c22a668d1",
       "version_major": 2,
       "version_minor": 0
      },
      "text/plain": [
       "Figure(layout=FigureLayout(height='420px'))"
      ]
     },
     "metadata": {},
     "output_type": "display_data"
    }
   ],
   "source": [
    "# Heatmap of percent humidity\n",
    "locations = city_data_df[[\"Lat\", \"Lng\"]]\n",
    "humidity = city_data_df[\"Humidity\"]\n",
    "fig = gmaps.figure(center=(30.0, 31.0), zoom_level=1.5)\n",
    "heat_layer = gmaps.heatmap_layer(locations, weights=humidity, dissipating=False, max_intensity=300, point_radius=4)\n",
    "\n",
    "fig.add_layer(heat_layer)\n",
    "# Call the figure to plot the data.\n",
    "fig"
   ]
  },
  {
   "cell_type": "markdown",
   "id": "1166bad3",
   "metadata": {},
   "source": [
    "## Create a Percent Cloudiness Heatmap"
   ]
  },
  {
   "cell_type": "code",
   "execution_count": 8,
   "id": "37b2b423",
   "metadata": {},
   "outputs": [
    {
     "data": {
      "application/vnd.jupyter.widget-view+json": {
       "model_id": "cd64a8efda4347afaaa5686254b5ebff",
       "version_major": 2,
       "version_minor": 0
      },
      "text/plain": [
       "Figure(layout=FigureLayout(height='420px'))"
      ]
     },
     "metadata": {},
     "output_type": "display_data"
    }
   ],
   "source": [
    "# Heatmap of percent cloudiness\n",
    "locations = city_data_df[[\"Lat\", \"Lng\"]]\n",
    "clouds = city_data_df[\"Cloudiness\"]\n",
    "fig = gmaps.figure(center=(30.0, 31.0), zoom_level=1.5)\n",
    "heat_layer = gmaps.heatmap_layer(locations, weights = clouds, dissipating=False, max_intensity=300, point_radius=4)\n",
    "\n",
    "fig.add_layer(heat_layer)\n",
    "# Call the figure to plot the data.\n",
    "fig"
   ]
  },
  {
   "cell_type": "markdown",
   "id": "d1eaab9f",
   "metadata": {},
   "source": [
    "## Create a Wind Speed Heatmap\n"
   ]
  },
  {
   "cell_type": "code",
   "execution_count": 9,
   "id": "26af72ec",
   "metadata": {},
   "outputs": [
    {
     "data": {
      "application/vnd.jupyter.widget-view+json": {
       "model_id": "542f5be11cba4ea3b9fb58bfaeecf9b4",
       "version_major": 2,
       "version_minor": 0
      },
      "text/plain": [
       "Figure(layout=FigureLayout(height='420px'))"
      ]
     },
     "metadata": {},
     "output_type": "display_data"
    }
   ],
   "source": [
    "# Heatmap of percent cloudiness\n",
    "locations = city_data_df[[\"Lat\", \"Lng\"]]\n",
    "wind = city_data_df[\"Wind Speed\"]\n",
    "fig = gmaps.figure(center=(30.0, 31.0), zoom_level=1.5)\n",
    "heat_layer = gmaps.heatmap_layer(locations, weights=wind, dissipating=False, max_intensity=300, point_radius=4)\n",
    "\n",
    "fig.add_layer(heat_layer)\n",
    "# Call the figure to plot the data.\n",
    "fig"
   ]
  },
  {
   "cell_type": "markdown",
   "id": "17a94c60",
   "metadata": {},
   "source": [
    "## Get Vacation Criteria\n",
    "\n",
    "For the app we are creating, we need to prompt the user to enter the minimum and maximum temperature ranges as floating-point decimal numbers to filter the city_data_df DataFrame.\n",
    "\n",
    "Recall that you use the input() statement to prompt a user to enter information. To convert the input to a floating-point decimal number, wrap the input() statement with the float() method, like this: float(input())."
   ]
  },
  {
   "cell_type": "code",
   "execution_count": 10,
   "id": "ffe8b762",
   "metadata": {},
   "outputs": [],
   "source": [
    "# Ask the customer to add a minimum and maximum temperature value.\n",
    "min_temp = float(input(\"What is the minimum temperature you would like for your trip? \"))\n",
    "max_temp = float(input(\"What is the maximum temperature you would like for your trip? \"))\n"
   ]
  },
  {
   "cell_type": "code",
   "execution_count": 11,
   "id": "8f622774",
   "metadata": {},
   "outputs": [
    {
     "data": {
      "text/html": [
       "<div>\n",
       "<style scoped>\n",
       "    .dataframe tbody tr th:only-of-type {\n",
       "        vertical-align: middle;\n",
       "    }\n",
       "\n",
       "    .dataframe tbody tr th {\n",
       "        vertical-align: top;\n",
       "    }\n",
       "\n",
       "    .dataframe thead th {\n",
       "        text-align: right;\n",
       "    }\n",
       "</style>\n",
       "<table border=\"1\" class=\"dataframe\">\n",
       "  <thead>\n",
       "    <tr style=\"text-align: right;\">\n",
       "      <th></th>\n",
       "      <th>City_ID</th>\n",
       "      <th>City</th>\n",
       "      <th>Country</th>\n",
       "      <th>Date</th>\n",
       "      <th>Lat</th>\n",
       "      <th>Lng</th>\n",
       "      <th>Max Temp</th>\n",
       "      <th>Humidity</th>\n",
       "      <th>Cloudiness</th>\n",
       "      <th>Wind Speed</th>\n",
       "    </tr>\n",
       "  </thead>\n",
       "  <tbody>\n",
       "    <tr>\n",
       "      <th>1</th>\n",
       "      <td>1</td>\n",
       "      <td>Atuona</td>\n",
       "      <td>PF</td>\n",
       "      <td>2021-12-01 23:49:04</td>\n",
       "      <td>-9.8000</td>\n",
       "      <td>-139.0333</td>\n",
       "      <td>78.58</td>\n",
       "      <td>79</td>\n",
       "      <td>57</td>\n",
       "      <td>21.27</td>\n",
       "    </tr>\n",
       "    <tr>\n",
       "      <th>7</th>\n",
       "      <td>7</td>\n",
       "      <td>Buchanan</td>\n",
       "      <td>LR</td>\n",
       "      <td>2021-12-01 23:49:06</td>\n",
       "      <td>5.8808</td>\n",
       "      <td>-10.0467</td>\n",
       "      <td>78.82</td>\n",
       "      <td>84</td>\n",
       "      <td>30</td>\n",
       "      <td>5.41</td>\n",
       "    </tr>\n",
       "    <tr>\n",
       "      <th>10</th>\n",
       "      <td>10</td>\n",
       "      <td>Pedernales</td>\n",
       "      <td>DO</td>\n",
       "      <td>2021-12-01 23:49:07</td>\n",
       "      <td>18.0384</td>\n",
       "      <td>-71.7440</td>\n",
       "      <td>79.56</td>\n",
       "      <td>71</td>\n",
       "      <td>56</td>\n",
       "      <td>2.89</td>\n",
       "    </tr>\n",
       "    <tr>\n",
       "      <th>12</th>\n",
       "      <td>12</td>\n",
       "      <td>Aquiraz</td>\n",
       "      <td>BR</td>\n",
       "      <td>2021-12-01 23:49:08</td>\n",
       "      <td>-3.9014</td>\n",
       "      <td>-38.3911</td>\n",
       "      <td>83.21</td>\n",
       "      <td>68</td>\n",
       "      <td>85</td>\n",
       "      <td>11.68</td>\n",
       "    </tr>\n",
       "    <tr>\n",
       "      <th>17</th>\n",
       "      <td>17</td>\n",
       "      <td>Butaritari</td>\n",
       "      <td>KI</td>\n",
       "      <td>2021-12-01 23:49:09</td>\n",
       "      <td>3.0707</td>\n",
       "      <td>172.7902</td>\n",
       "      <td>82.22</td>\n",
       "      <td>77</td>\n",
       "      <td>96</td>\n",
       "      <td>11.01</td>\n",
       "    </tr>\n",
       "    <tr>\n",
       "      <th>25</th>\n",
       "      <td>25</td>\n",
       "      <td>Kupang</td>\n",
       "      <td>ID</td>\n",
       "      <td>2021-12-01 23:45:53</td>\n",
       "      <td>-10.1667</td>\n",
       "      <td>123.5833</td>\n",
       "      <td>82.98</td>\n",
       "      <td>78</td>\n",
       "      <td>40</td>\n",
       "      <td>4.61</td>\n",
       "    </tr>\n",
       "    <tr>\n",
       "      <th>26</th>\n",
       "      <td>26</td>\n",
       "      <td>Rikitea</td>\n",
       "      <td>PF</td>\n",
       "      <td>2021-12-01 23:46:11</td>\n",
       "      <td>-23.1203</td>\n",
       "      <td>-134.9692</td>\n",
       "      <td>76.44</td>\n",
       "      <td>73</td>\n",
       "      <td>0</td>\n",
       "      <td>17.34</td>\n",
       "    </tr>\n",
       "    <tr>\n",
       "      <th>27</th>\n",
       "      <td>27</td>\n",
       "      <td>Hobart</td>\n",
       "      <td>AU</td>\n",
       "      <td>2021-12-01 23:49:12</td>\n",
       "      <td>-42.8794</td>\n",
       "      <td>147.3294</td>\n",
       "      <td>88.02</td>\n",
       "      <td>58</td>\n",
       "      <td>20</td>\n",
       "      <td>1.01</td>\n",
       "    </tr>\n",
       "    <tr>\n",
       "      <th>34</th>\n",
       "      <td>34</td>\n",
       "      <td>Saint George</td>\n",
       "      <td>US</td>\n",
       "      <td>2021-12-01 23:47:32</td>\n",
       "      <td>37.1041</td>\n",
       "      <td>-113.5841</td>\n",
       "      <td>75.67</td>\n",
       "      <td>23</td>\n",
       "      <td>1</td>\n",
       "      <td>0.00</td>\n",
       "    </tr>\n",
       "    <tr>\n",
       "      <th>43</th>\n",
       "      <td>43</td>\n",
       "      <td>Hilo</td>\n",
       "      <td>US</td>\n",
       "      <td>2021-12-01 23:49:16</td>\n",
       "      <td>19.7297</td>\n",
       "      <td>-155.0900</td>\n",
       "      <td>75.61</td>\n",
       "      <td>89</td>\n",
       "      <td>75</td>\n",
       "      <td>4.61</td>\n",
       "    </tr>\n",
       "  </tbody>\n",
       "</table>\n",
       "</div>"
      ],
      "text/plain": [
       "    City_ID          City Country                 Date      Lat       Lng  \\\n",
       "1         1        Atuona      PF  2021-12-01 23:49:04  -9.8000 -139.0333   \n",
       "7         7      Buchanan      LR  2021-12-01 23:49:06   5.8808  -10.0467   \n",
       "10       10    Pedernales      DO  2021-12-01 23:49:07  18.0384  -71.7440   \n",
       "12       12       Aquiraz      BR  2021-12-01 23:49:08  -3.9014  -38.3911   \n",
       "17       17    Butaritari      KI  2021-12-01 23:49:09   3.0707  172.7902   \n",
       "25       25        Kupang      ID  2021-12-01 23:45:53 -10.1667  123.5833   \n",
       "26       26       Rikitea      PF  2021-12-01 23:46:11 -23.1203 -134.9692   \n",
       "27       27        Hobart      AU  2021-12-01 23:49:12 -42.8794  147.3294   \n",
       "34       34  Saint George      US  2021-12-01 23:47:32  37.1041 -113.5841   \n",
       "43       43          Hilo      US  2021-12-01 23:49:16  19.7297 -155.0900   \n",
       "\n",
       "    Max Temp  Humidity  Cloudiness  Wind Speed  \n",
       "1      78.58        79          57       21.27  \n",
       "7      78.82        84          30        5.41  \n",
       "10     79.56        71          56        2.89  \n",
       "12     83.21        68          85       11.68  \n",
       "17     82.22        77          96       11.01  \n",
       "25     82.98        78          40        4.61  \n",
       "26     76.44        73           0       17.34  \n",
       "27     88.02        58          20        1.01  \n",
       "34     75.67        23           1        0.00  \n",
       "43     75.61        89          75        4.61  "
      ]
     },
     "execution_count": 11,
     "metadata": {},
     "output_type": "execute_result"
    }
   ],
   "source": [
    "# Filter the dataset to find the cities that fit the criteria.\n",
    "preferred_cities_df = city_data_df.loc[(city_data_df[\"Max Temp\"] <= max_temp) & \\\n",
    "                                       (city_data_df[\"Max Temp\"] >= min_temp)]\n",
    "preferred_cities_df.head(10)"
   ]
  },
  {
   "cell_type": "markdown",
   "id": "d849e6e2",
   "metadata": {},
   "source": [
    "Before moving on, determine if the preferred_cities_df DataFrame has any null values for any of the rows.\n",
    "\n",
    "How would you determine if there are any null values for the rows in the preferred_cities_df DataFrame? (Select all that apply)\n",
    "\n"
   ]
  },
  {
   "cell_type": "code",
   "execution_count": 12,
   "id": "ff174784",
   "metadata": {},
   "outputs": [
    {
     "data": {
      "text/plain": [
       "City_ID       164\n",
       "City          164\n",
       "Country       164\n",
       "Date          164\n",
       "Lat           164\n",
       "Lng           164\n",
       "Max Temp      164\n",
       "Humidity      164\n",
       "Cloudiness    164\n",
       "Wind Speed    164\n",
       "dtype: int64"
      ]
     },
     "execution_count": 12,
     "metadata": {},
     "output_type": "execute_result"
    }
   ],
   "source": [
    "preferred_cities_df.count()"
   ]
  },
  {
   "cell_type": "code",
   "execution_count": 13,
   "id": "796a814b",
   "metadata": {},
   "outputs": [
    {
     "data": {
      "text/plain": [
       "City_ID       0\n",
       "City          0\n",
       "Country       0\n",
       "Date          0\n",
       "Lat           0\n",
       "Lng           0\n",
       "Max Temp      0\n",
       "Humidity      0\n",
       "Cloudiness    0\n",
       "Wind Speed    0\n",
       "dtype: int64"
      ]
     },
     "execution_count": 13,
     "metadata": {},
     "output_type": "execute_result"
    }
   ],
   "source": [
    "preferred_cities_df.isnull().sum()"
   ]
  },
  {
   "cell_type": "code",
   "execution_count": 14,
   "id": "10c524b2",
   "metadata": {},
   "outputs": [
    {
     "data": {
      "text/plain": [
       "City_ID       164\n",
       "City          164\n",
       "Country       164\n",
       "Date          164\n",
       "Lat           164\n",
       "Lng           164\n",
       "Max Temp      164\n",
       "Humidity      164\n",
       "Cloudiness    164\n",
       "Wind Speed    164\n",
       "dtype: int64"
      ]
     },
     "execution_count": 14,
     "metadata": {},
     "output_type": "execute_result"
    }
   ],
   "source": [
    "preferred_cities_df.notnull().sum()"
   ]
  },
  {
   "cell_type": "markdown",
   "id": "e6b9e9ef",
   "metadata": {},
   "source": [
    "Consider the following guidance:\n",
    "\n",
    "1. Depending on the time of year and the seasons, you might have to adjust the minimum and maximum temperature to get enough cities.\n",
    "2. It is a good idea to keep the number of cities to fewer than 200 to make it easier to plot the markers on the heatmap.\n",
    "3. If you have some rows with null values, you'll need to drop them using the dropna() method at the end of your filtering statement when you are creating the new DataFrame."
   ]
  },
  {
   "cell_type": "markdown",
   "id": "fbf0839f",
   "metadata": {},
   "source": [
    "## Get Travel Destinations\n",
    "\n",
    "Using the coordinates from the preferred_cities_df DataFrame, find a hotel using our Google Places API and then retrieve that hotel information. Once we retrieve the hotel information, we'll need to store it so we can reference it and add the information to the pop-up marker.\n",
    "\n",
    "Don't add the hotel information to the preferred_cities_df DataFrame because this DataFrame is our filtered DataFrame, and the customer will always filter it for each trip. We'll need to create a new DataFrame specifically for the data needed to create a heatmap and pop-up markers.\n",
    "\n",
    "Make a copy of the preferred_cities_df DataFrame and name it hotel_df. For the hotel_df, keep the columns \"City,\" \"Country,\" \"Max Temp,\" \"Lat,\" and \"Lng.\" Add a new column to the hotel_df DataFrame to hold the name of the hotel.\n",
    "\n",
    "Using the latitude and longitude and specific parameters, use the Google Places Nearby Search request to retrieve a hotel and add it to the Hotel Name column.\n"
   ]
  },
  {
   "cell_type": "code",
   "execution_count": 15,
   "id": "aa43ad27",
   "metadata": {},
   "outputs": [
    {
     "data": {
      "text/html": [
       "<div>\n",
       "<style scoped>\n",
       "    .dataframe tbody tr th:only-of-type {\n",
       "        vertical-align: middle;\n",
       "    }\n",
       "\n",
       "    .dataframe tbody tr th {\n",
       "        vertical-align: top;\n",
       "    }\n",
       "\n",
       "    .dataframe thead th {\n",
       "        text-align: right;\n",
       "    }\n",
       "</style>\n",
       "<table border=\"1\" class=\"dataframe\">\n",
       "  <thead>\n",
       "    <tr style=\"text-align: right;\">\n",
       "      <th></th>\n",
       "      <th>City</th>\n",
       "      <th>Country</th>\n",
       "      <th>Max Temp</th>\n",
       "      <th>Lat</th>\n",
       "      <th>Lng</th>\n",
       "      <th>Hotel Name</th>\n",
       "    </tr>\n",
       "  </thead>\n",
       "  <tbody>\n",
       "    <tr>\n",
       "      <th>1</th>\n",
       "      <td>Atuona</td>\n",
       "      <td>PF</td>\n",
       "      <td>78.58</td>\n",
       "      <td>-9.8000</td>\n",
       "      <td>-139.0333</td>\n",
       "      <td></td>\n",
       "    </tr>\n",
       "    <tr>\n",
       "      <th>7</th>\n",
       "      <td>Buchanan</td>\n",
       "      <td>LR</td>\n",
       "      <td>78.82</td>\n",
       "      <td>5.8808</td>\n",
       "      <td>-10.0467</td>\n",
       "      <td></td>\n",
       "    </tr>\n",
       "    <tr>\n",
       "      <th>10</th>\n",
       "      <td>Pedernales</td>\n",
       "      <td>DO</td>\n",
       "      <td>79.56</td>\n",
       "      <td>18.0384</td>\n",
       "      <td>-71.7440</td>\n",
       "      <td></td>\n",
       "    </tr>\n",
       "    <tr>\n",
       "      <th>12</th>\n",
       "      <td>Aquiraz</td>\n",
       "      <td>BR</td>\n",
       "      <td>83.21</td>\n",
       "      <td>-3.9014</td>\n",
       "      <td>-38.3911</td>\n",
       "      <td></td>\n",
       "    </tr>\n",
       "    <tr>\n",
       "      <th>17</th>\n",
       "      <td>Butaritari</td>\n",
       "      <td>KI</td>\n",
       "      <td>82.22</td>\n",
       "      <td>3.0707</td>\n",
       "      <td>172.7902</td>\n",
       "      <td></td>\n",
       "    </tr>\n",
       "    <tr>\n",
       "      <th>25</th>\n",
       "      <td>Kupang</td>\n",
       "      <td>ID</td>\n",
       "      <td>82.98</td>\n",
       "      <td>-10.1667</td>\n",
       "      <td>123.5833</td>\n",
       "      <td></td>\n",
       "    </tr>\n",
       "    <tr>\n",
       "      <th>26</th>\n",
       "      <td>Rikitea</td>\n",
       "      <td>PF</td>\n",
       "      <td>76.44</td>\n",
       "      <td>-23.1203</td>\n",
       "      <td>-134.9692</td>\n",
       "      <td></td>\n",
       "    </tr>\n",
       "    <tr>\n",
       "      <th>27</th>\n",
       "      <td>Hobart</td>\n",
       "      <td>AU</td>\n",
       "      <td>88.02</td>\n",
       "      <td>-42.8794</td>\n",
       "      <td>147.3294</td>\n",
       "      <td></td>\n",
       "    </tr>\n",
       "    <tr>\n",
       "      <th>34</th>\n",
       "      <td>Saint George</td>\n",
       "      <td>US</td>\n",
       "      <td>75.67</td>\n",
       "      <td>37.1041</td>\n",
       "      <td>-113.5841</td>\n",
       "      <td></td>\n",
       "    </tr>\n",
       "    <tr>\n",
       "      <th>43</th>\n",
       "      <td>Hilo</td>\n",
       "      <td>US</td>\n",
       "      <td>75.61</td>\n",
       "      <td>19.7297</td>\n",
       "      <td>-155.0900</td>\n",
       "      <td></td>\n",
       "    </tr>\n",
       "  </tbody>\n",
       "</table>\n",
       "</div>"
      ],
      "text/plain": [
       "            City Country  Max Temp      Lat       Lng Hotel Name\n",
       "1         Atuona      PF     78.58  -9.8000 -139.0333           \n",
       "7       Buchanan      LR     78.82   5.8808  -10.0467           \n",
       "10    Pedernales      DO     79.56  18.0384  -71.7440           \n",
       "12       Aquiraz      BR     83.21  -3.9014  -38.3911           \n",
       "17    Butaritari      KI     82.22   3.0707  172.7902           \n",
       "25        Kupang      ID     82.98 -10.1667  123.5833           \n",
       "26       Rikitea      PF     76.44 -23.1203 -134.9692           \n",
       "27        Hobart      AU     88.02 -42.8794  147.3294           \n",
       "34  Saint George      US     75.67  37.1041 -113.5841           \n",
       "43          Hilo      US     75.61  19.7297 -155.0900           "
      ]
     },
     "execution_count": 15,
     "metadata": {},
     "output_type": "execute_result"
    }
   ],
   "source": [
    "# Create DataFrame called hotel_df to store hotel names along with city, country, max temp, and coordinates.\n",
    "hotel_df = preferred_cities_df[[\"City\", \"Country\", \"Max Temp\", \"Lat\", \"Lng\"]].copy()\n",
    "hotel_df[\"Hotel Name\"] = \"\"\n",
    "hotel_df.head(10)"
   ]
  },
  {
   "cell_type": "markdown",
   "id": "3af47924",
   "metadata": {},
   "source": [
    "## Retrieve Hotels from a Nearby Search\n",
    "\n",
    "The first step for retrieving hotels from a Nearby Search is to set the parameters for the search.\n",
    "\n",
    "Set the Parameters for a Nearby Search\n",
    "To find the nearest establishment to geographic coordinates, use the Google Places Nearby Search request. First, navigate to the Nearby Search requests page.\n",
    "\n",
    "\n",
    "Specific parameters include:\n",
    "1. Our API key\n",
    "2. A location, which will be the latitude and longitude\n",
    "3. A radius for the search. The radius can be up to 50,000 meters or approximately 31 miles. This distance is much too great for finding hotels, so we'll keep our search to 5,000 meters.\n",
    "4. If we use the rankby=distance for a parameter, we need to add one or more of the three parameters above. We won't use the rankby=distance because we will be search based on the radius from a given latitude and longitude.\n",
    "5. We can add optional parameters such as a keyword, a type of business, or the name of a business.\n",
    "\n",
    "Next, we'll need to look at the documentation on the Python Requests Library (Links to an external site.) provided earlier. The section \"Passing Parameters In URLs\" states that we can add the parameters as a dictionary of strings, using the params keyword argument requests.get('base URL', params=parameters).\n"
   ]
  },
  {
   "cell_type": "code",
   "execution_count": 17,
   "id": "df3e0315",
   "metadata": {},
   "outputs": [],
   "source": [
    "# Set parameters to search for a hotel.\n",
    "params = {\n",
    "    \"radius\": 5000,\n",
    "    \"type\": \"lodging\",\n",
    "    \"key\": g_key\n",
    "}"
   ]
  },
  {
   "cell_type": "markdown",
   "id": "5ac77aee",
   "metadata": {},
   "source": [
    "Next, add the coordinates for the location parameter for each city, which need to be pulled from the Lat and Lng columns of the hotel_df DataFrame. We'll need to iterate through the columns of the DataFrame and add the coordinates to the params dictionary before making the request and retrieving the JSON data. However, before iterating through the hotel_df DataFrame, we need to know what the JSON data looks like from a search. Let's practice using a fixed latitude and longitude so we understand where to get the hotel name."
   ]
  },
  {
   "cell_type": "markdown",
   "id": "d5b83395",
   "metadata": {},
   "source": [
    "## Iterate Through hotel_df DataFrame\n",
    "\n",
    "We can use the iterrows() function to perform the iteration; however, we need to provide the index and the row in the for loop using this syntax: for index, row in df.iterrows()."
   ]
  },
  {
   "cell_type": "code",
   "execution_count": 19,
   "id": "e28dd4be",
   "metadata": {},
   "outputs": [
    {
     "name": "stdout",
     "output_type": "stream",
     "text": [
      "Hotel not found... skipping.\n",
      "Hotel not found... skipping.\n",
      "Hotel not found... skipping.\n",
      "Hotel not found... skipping.\n",
      "Hotel not found... skipping.\n",
      "Hotel not found... skipping.\n",
      "Hotel not found... skipping.\n",
      "Hotel not found... skipping.\n",
      "Hotel not found... skipping.\n",
      "Hotel not found... skipping.\n",
      "Hotel not found... skipping.\n",
      "Hotel not found... skipping.\n",
      "Hotel not found... skipping.\n",
      "Hotel not found... skipping.\n",
      "Hotel not found... skipping.\n"
     ]
    }
   ],
   "source": [
    "# Iterate through the DataFrame.\n",
    "for index, row in hotel_df.iterrows():\n",
    "    # Get the latitude and longitude.\n",
    "    lat = row[\"Lat\"]\n",
    "    lng = row[\"Lng\"]\n",
    "\n",
    "    # Add the latitude and longitude to location key for the params dictionary.\n",
    "    params[\"location\"] = f\"{lat},{lng}\"\n",
    "\n",
    "    # Use the search term: \"lodging\" and our latitude and longitude.\n",
    "    base_url = \"https://maps.googleapis.com/maps/api/place/nearbysearch/json\"\n",
    "    # Make request and get the JSON data from the search.\n",
    "    hotels = requests.get(base_url, params=params).json()\n",
    "    # Grab the first hotel from the results and store the name.\n",
    "    try:\n",
    "        hotel_df.loc[index, \"Hotel Name\"] = hotels[\"results\"][0][\"name\"]\n",
    "    except (IndexError):\n",
    "        print(\"Hotel not found... skipping.\")"
   ]
  },
  {
   "cell_type": "code",
   "execution_count": 20,
   "id": "d79ca8c4",
   "metadata": {},
   "outputs": [
    {
     "data": {
      "text/html": [
       "<div>\n",
       "<style scoped>\n",
       "    .dataframe tbody tr th:only-of-type {\n",
       "        vertical-align: middle;\n",
       "    }\n",
       "\n",
       "    .dataframe tbody tr th {\n",
       "        vertical-align: top;\n",
       "    }\n",
       "\n",
       "    .dataframe thead th {\n",
       "        text-align: right;\n",
       "    }\n",
       "</style>\n",
       "<table border=\"1\" class=\"dataframe\">\n",
       "  <thead>\n",
       "    <tr style=\"text-align: right;\">\n",
       "      <th></th>\n",
       "      <th>City</th>\n",
       "      <th>Country</th>\n",
       "      <th>Max Temp</th>\n",
       "      <th>Lat</th>\n",
       "      <th>Lng</th>\n",
       "      <th>Hotel Name</th>\n",
       "    </tr>\n",
       "  </thead>\n",
       "  <tbody>\n",
       "    <tr>\n",
       "      <th>1</th>\n",
       "      <td>Atuona</td>\n",
       "      <td>PF</td>\n",
       "      <td>78.58</td>\n",
       "      <td>-9.8000</td>\n",
       "      <td>-139.0333</td>\n",
       "      <td>Villa Enata</td>\n",
       "    </tr>\n",
       "    <tr>\n",
       "      <th>7</th>\n",
       "      <td>Buchanan</td>\n",
       "      <td>LR</td>\n",
       "      <td>78.82</td>\n",
       "      <td>5.8808</td>\n",
       "      <td>-10.0467</td>\n",
       "      <td>Kamaneahn Hotel Inc</td>\n",
       "    </tr>\n",
       "    <tr>\n",
       "      <th>10</th>\n",
       "      <td>Pedernales</td>\n",
       "      <td>DO</td>\n",
       "      <td>79.56</td>\n",
       "      <td>18.0384</td>\n",
       "      <td>-71.7440</td>\n",
       "      <td>Hotel Costa Marina</td>\n",
       "    </tr>\n",
       "    <tr>\n",
       "      <th>12</th>\n",
       "      <td>Aquiraz</td>\n",
       "      <td>BR</td>\n",
       "      <td>83.21</td>\n",
       "      <td>-3.9014</td>\n",
       "      <td>-38.3911</td>\n",
       "      <td>Pousada Rua Camurupim</td>\n",
       "    </tr>\n",
       "    <tr>\n",
       "      <th>17</th>\n",
       "      <td>Butaritari</td>\n",
       "      <td>KI</td>\n",
       "      <td>82.22</td>\n",
       "      <td>3.0707</td>\n",
       "      <td>172.7902</td>\n",
       "      <td>Isles Sunset Lodge</td>\n",
       "    </tr>\n",
       "    <tr>\n",
       "      <th>...</th>\n",
       "      <td>...</td>\n",
       "      <td>...</td>\n",
       "      <td>...</td>\n",
       "      <td>...</td>\n",
       "      <td>...</td>\n",
       "      <td>...</td>\n",
       "    </tr>\n",
       "    <tr>\n",
       "      <th>537</th>\n",
       "      <td>Lemoore</td>\n",
       "      <td>US</td>\n",
       "      <td>75.20</td>\n",
       "      <td>36.3008</td>\n",
       "      <td>-119.7829</td>\n",
       "      <td>Travelodge by Wyndham Lemoore Near Naval Air S...</td>\n",
       "    </tr>\n",
       "    <tr>\n",
       "      <th>542</th>\n",
       "      <td>Bria</td>\n",
       "      <td>CF</td>\n",
       "      <td>77.63</td>\n",
       "      <td>6.5423</td>\n",
       "      <td>21.9863</td>\n",
       "      <td>WFP Guesthouse</td>\n",
       "    </tr>\n",
       "    <tr>\n",
       "      <th>552</th>\n",
       "      <td>Cururupu</td>\n",
       "      <td>BR</td>\n",
       "      <td>77.43</td>\n",
       "      <td>-1.8283</td>\n",
       "      <td>-44.8683</td>\n",
       "      <td>POUSADA TRAVÉS'CIA</td>\n",
       "    </tr>\n",
       "    <tr>\n",
       "      <th>556</th>\n",
       "      <td>Puro</td>\n",
       "      <td>PH</td>\n",
       "      <td>78.60</td>\n",
       "      <td>12.4841</td>\n",
       "      <td>123.3827</td>\n",
       "      <td></td>\n",
       "    </tr>\n",
       "    <tr>\n",
       "      <th>559</th>\n",
       "      <td>Mocuba</td>\n",
       "      <td>MZ</td>\n",
       "      <td>75.31</td>\n",
       "      <td>-16.8392</td>\n",
       "      <td>36.9856</td>\n",
       "      <td>Phama Lodge</td>\n",
       "    </tr>\n",
       "  </tbody>\n",
       "</table>\n",
       "<p>164 rows × 6 columns</p>\n",
       "</div>"
      ],
      "text/plain": [
       "           City Country  Max Temp      Lat       Lng  \\\n",
       "1        Atuona      PF     78.58  -9.8000 -139.0333   \n",
       "7      Buchanan      LR     78.82   5.8808  -10.0467   \n",
       "10   Pedernales      DO     79.56  18.0384  -71.7440   \n",
       "12      Aquiraz      BR     83.21  -3.9014  -38.3911   \n",
       "17   Butaritari      KI     82.22   3.0707  172.7902   \n",
       "..          ...     ...       ...      ...       ...   \n",
       "537     Lemoore      US     75.20  36.3008 -119.7829   \n",
       "542        Bria      CF     77.63   6.5423   21.9863   \n",
       "552    Cururupu      BR     77.43  -1.8283  -44.8683   \n",
       "556        Puro      PH     78.60  12.4841  123.3827   \n",
       "559      Mocuba      MZ     75.31 -16.8392   36.9856   \n",
       "\n",
       "                                            Hotel Name  \n",
       "1                                          Villa Enata  \n",
       "7                                  Kamaneahn Hotel Inc  \n",
       "10                                  Hotel Costa Marina  \n",
       "12                               Pousada Rua Camurupim  \n",
       "17                                  Isles Sunset Lodge  \n",
       "..                                                 ...  \n",
       "537  Travelodge by Wyndham Lemoore Near Naval Air S...  \n",
       "542                                     WFP Guesthouse  \n",
       "552                                 POUSADA TRAVÉS'CIA  \n",
       "556                                                     \n",
       "559                                        Phama Lodge  \n",
       "\n",
       "[164 rows x 6 columns]"
      ]
     },
     "execution_count": 20,
     "metadata": {},
     "output_type": "execute_result"
    }
   ],
   "source": [
    "hotel_df"
   ]
  },
  {
   "cell_type": "markdown",
   "id": "73504461",
   "metadata": {},
   "source": [
    "## Create a Maximum Temperature Heatmap from a Hotel DataFrame\n",
    "Before we add pop-up markers with hotel information, let's create a heatmap using the maximum temperature from our hotel_df DataFrame by reusing the code and changing the DataFrame name.\n",
    "\n",
    "If we refer to the gmaps documentation on how to add markers (Links to an external site.), the syntax is markers = gmaps.marker_layer(marker_locations), where the marker_locations are latitudes and longitudes.\n",
    "\n",
    "Let's add the markers for each city on top of the heatmap. Edit the code we used to create the heatmap to look like the following:"
   ]
  },
  {
   "cell_type": "code",
   "execution_count": 23,
   "id": "d3a3b737",
   "metadata": {},
   "outputs": [
    {
     "data": {
      "application/vnd.jupyter.widget-view+json": {
       "model_id": "4aca60a8f060479095fcb7c08d80cef1",
       "version_major": 2,
       "version_minor": 0
      },
      "text/plain": [
       "Figure(layout=FigureLayout(height='420px'))"
      ]
     },
     "metadata": {},
     "output_type": "display_data"
    }
   ],
   "source": [
    "# Add a heatmap of temperature for the vacation spots and marker for each city.\n",
    "locations = hotel_df[[\"Lat\", \"Lng\"]]\n",
    "max_temp = hotel_df[\"Max Temp\"]\n",
    "fig = gmaps.figure(center=(30.0, 31.0), zoom_level=1.5)\n",
    "heat_layer = gmaps.heatmap_layer(locations, weights=max_temp,\n",
    "             dissipating=False, max_intensity=300, point_radius=4)\n",
    "marker_layer = gmaps.marker_layer(locations)\n",
    "fig.add_layer(heat_layer)\n",
    "fig.add_layer(marker_layer)\n",
    "# Call the figure to plot the data.\n",
    "fig\n"
   ]
  },
  {
   "cell_type": "markdown",
   "id": "8a6b874b",
   "metadata": {},
   "source": [
    "Now we can add a pop-up marker for each city that displays the hotel name, city name, country, and maximum temperature.\n",
    "\n",
    "From the gmaps documentation on how to add markers (Links to an external site.), we need to add an info_box_template that has the following syntax.\n",
    "\n",
    "info_box_template = \"\"\"\n",
    "<dl>\n",
    "<dt>Name</dt><dd>{column1}</dd>\n",
    "<dt>Another name</dt><dd>{column2}</dd>\n",
    "</dl>\n",
    "\"\"\"\n",
    "\n",
    "Next, add the data to the code by iterating through the hotel_df DataFrame using the iterrows() function. Then add the information to the gmaps.marker_layer() attribute with the locations.\n",
    "\n",
    "According to the documentation (Links to an external site.), we can use this example to create the data for the info_box_template:\n",
    "\n",
    "From the documentation, we can take this code:\n",
    "\n",
    "plant_info = [info_box_template.format(**plant) for plant in nuclear_power_plants]\n",
    "\n",
    "Then edit this code by replacing \"plant_info\" with \"hotel_info,\" and then use the iterrows() function to get the index and data in the row to add to the marker.\n",
    "\n",
    "Add the following code below to the info_box_template code and run the cell."
   ]
  },
  {
   "cell_type": "code",
   "execution_count": 28,
   "id": "8d205fc5",
   "metadata": {},
   "outputs": [],
   "source": [
    "info_box_template = \"\"\"\n",
    "<dl>\n",
    "<dt>Hotel Name</dt><dd>{Hotel Name}</dd>\n",
    "<dt>City</dt><dd>{City}</dd>\n",
    "<dt>Country</dt><dd>{Country}</dd>\n",
    "<dt>Max Temp</dt><dd>{Max Temp} °F</dd>\n",
    "</dl>\n",
    "\"\"\"\n",
    "\n",
    "# Store the DataFrame Row.\n",
    "hotel_info = [info_box_template.format(**row) for index, row in hotel_df.iterrows()]\n"
   ]
  },
  {
   "cell_type": "markdown",
   "id": "d2015960",
   "metadata": {},
   "source": [
    "Next, in the code we used to create the heatmap with markers, add info_box_content=hotel_info to the gmaps.marker_layer() attribute with the locations. Our final cell should look like the following."
   ]
  },
  {
   "cell_type": "code",
   "execution_count": 30,
   "id": "44fb0a2f",
   "metadata": {},
   "outputs": [
    {
     "data": {
      "application/vnd.jupyter.widget-view+json": {
       "model_id": "4b918f0e23904766b6b094653c095a21",
       "version_major": 2,
       "version_minor": 0
      },
      "text/plain": [
       "Figure(layout=FigureLayout(height='420px'))"
      ]
     },
     "metadata": {},
     "output_type": "display_data"
    }
   ],
   "source": [
    "# Add a heatmap of temperature for the vacation spots and a pop-up marker for each city.\n",
    "locations = hotel_df[[\"Lat\", \"Lng\"]]\n",
    "max_temp = hotel_df[\"Max Temp\"]\n",
    "fig = gmaps.figure(center=(30.0, 31.0), zoom_level=1.5)\n",
    "heat_layer = gmaps.heatmap_layer(locations, weights=max_temp,dissipating=False,\n",
    "             max_intensity=300, point_radius=4)\n",
    "marker_layer = gmaps.marker_layer(locations, info_box_content=hotel_info)\n",
    "fig.add_layer(heat_layer)\n",
    "fig.add_layer(marker_layer)\n",
    "\n",
    "# Call the figure to plot the data.\n",
    "fig"
   ]
  },
  {
   "cell_type": "code",
   "execution_count": null,
   "id": "baf2a2d0",
   "metadata": {},
   "outputs": [],
   "source": []
  }
 ],
 "metadata": {
  "interpreter": {
   "hash": "249e5e7a09ecfff04bf2f3c245eb333db89e051ef4ebbe19a6a0f6f6e5d0b19d"
  },
  "kernelspec": {
   "display_name": "PythonData",
   "language": "python",
   "name": "python3"
  },
  "language_info": {
   "codemirror_mode": {
    "name": "ipython",
    "version": 3
   },
   "file_extension": ".py",
   "mimetype": "text/x-python",
   "name": "python",
   "nbconvert_exporter": "python",
   "pygments_lexer": "ipython3",
   "version": "3.7.10"
  }
 },
 "nbformat": 4,
 "nbformat_minor": 5
}
