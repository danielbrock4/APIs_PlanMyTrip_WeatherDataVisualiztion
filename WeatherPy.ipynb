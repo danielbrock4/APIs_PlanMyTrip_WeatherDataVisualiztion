{
 "cells": [
  {
   "cell_type": "markdown",
   "id": "437f3a71-74c7-4f40-8e20-51ce9f6cfc91",
   "metadata": {},
   "source": [
    "### Create Latitude and Longitude Combinations"
   ]
  },
  {
   "cell_type": "code",
   "execution_count": 1,
   "id": "6c3f216c-644c-415f-a1d5-0c1063f2897e",
   "metadata": {},
   "outputs": [],
   "source": [
    "# Import the dependencies.\n",
    "import pandas as pd\n",
    "import numpy as np\n",
    "import matplotlib.pyplot as plt\n",
    "\n",
    "# Use the citipy module to determine city based on latitude and longitude.\n",
    "    # Under \"Looking up with coordinates,\" the first line says from citipy import citipy, meaning we'll import the citipy script from the citipy module.\n",
    "    # When a Python file containing a script is imported to use in another Python script, the .py extension does not need to be added to the name of the file when using the import statement.    \n",
    "from citipy import citipy\n",
    "\n",
    "# Import the datetime module from the datetime library.\n",
    "    # If we want to convert the timestamp to the International Organization for Standardization (ISO) format, or YYYY-MM-DD-HH-MM-SS, we need to use the Python datetime module.\n",
    "from datetime import datetime\n",
    "\n",
    "# Import the API key.\n",
    "    # When a Python file containing a script is imported to use in another Python script, the .py extension does not need to be added to the name of the file when using the import statement.\n",
    "from config import weather_api_key\n",
    "\n",
    "\n",
    "# Import the time module.\n",
    "    #  import the time module to get the current date, rather than the datetime module that we used to convert the date.\n",
    "import time\n",
    "\n",
    "# Import linear regression from the SciPy stats module.\n",
    "from scipy.stats import linregress"
   ]
  },
  {
   "cell_type": "markdown",
   "id": "68d64932-93f4-4281-a85a-63025369b681",
   "metadata": {},
   "source": [
    "Since we are creating arrays of latitudes and longitudes, we'll declare each array as a variable. In the next cell, add the following code that we used to generate the random latitudes. Also, we'll create a similar code snippet that will generate longitudes. To ensure enough latitudes and longitudes, we'll start with 1,500. In addition, we'll pack the latitudes (lats) and longitudes (lngs) as pairs by zipping them (lat_lngs) with the zip() function.\n",
    "\n",
    "When we run this cell, the output is a zip object in memory. The zip object packs each pair of lats and lngs having the same index in their respective array into a tuple. If there are 1,500 latitudes and longitudes, there will be 1,500 tuples of paired latitudes and longitudes, where each latitude and longitude in a tuple can be accessed by the index of 0 and 1, respectively."
   ]
  },
  {
   "cell_type": "code",
   "execution_count": 2,
   "id": "aecf69ca-efbb-4180-ae2f-067144b21229",
   "metadata": {},
   "outputs": [
    {
     "data": {
      "text/plain": [
       "<zip at 0x26f11d35d08>"
      ]
     },
     "execution_count": 2,
     "metadata": {},
     "output_type": "execute_result"
    }
   ],
   "source": [
    "# Create a set of random latitude and longitude combinations.\n",
    "    # 1) Create arrays of latitudes and longitudes, we'll declare each array as a variable. \n",
    "    # 2) Use Numpty random uniform because its faster to generate the random latitudes and longtitudes.\n",
    "            # To generate more than one floating-point decimal number between –90 and 90, we can add the size parameter when we use the NumPy module and set that equal to any whole number.\n",
    "    # 3) Use zip() we'll pack the latitudes (lats) and longitudes (lngs) as pairs by zipping them (lat_lngs) with the zip() function.\n",
    "\n",
    "lats = np.random.uniform(low=-90.00, high=90.000, size=1500)\n",
    "lngs = np.random.uniform(-180.000, 180.000, size=1500)\n",
    "lats_lngs = zip(lats, lngs)\n",
    "lats_lngs "
   ]
  },
  {
   "cell_type": "markdown",
   "id": "59894772-d1fd-4238-b4b2-def76d032d9b",
   "metadata": {},
   "source": [
    "Next, let's unpack our lat_lngs zip object into a list. This way, we only need to create a set of random latitudes and longitudes once. \n",
    "You can only unzip a zipped tuple once before it is removed from the computer's memory. Make sure you unzip the latitudes and longitudes into the coordinates list before moving on."
   ]
  },
  {
   "cell_type": "code",
   "execution_count": 3,
   "id": "61734443-ae03-4f21-aaa3-c2949809faea",
   "metadata": {},
   "outputs": [
    {
     "data": {
      "text/plain": [
       "[(55.72472082471586, 41.69186753922989),\n",
       " (-3.2494937589888764, -127.36049127112017),\n",
       " (33.10682370690556, 78.72458981506901)]"
      ]
     },
     "execution_count": 3,
     "metadata": {},
     "output_type": "execute_result"
    }
   ],
   "source": [
    "# Add the latitudes and longitudes to a list.\n",
    "coordinates = list(lats_lngs)\n",
    "coordinates[:3]"
   ]
  },
  {
   "cell_type": "markdown",
   "id": "d2fbf81e-f0d4-43d6-bb47-231184311dae",
   "metadata": {},
   "source": [
    "Iterate through our zipped lat_lngs tuple and find the nearest city. When we find a city, we'll need to add it to a list so that we can use the cities to get the weather data."
   ]
  },
  {
   "cell_type": "code",
   "execution_count": 4,
   "id": "98415008-b914-466c-b2ec-4f5ac58c9850",
   "metadata": {},
   "outputs": [
    {
     "data": {
      "text/plain": [
       "611"
      ]
     },
     "execution_count": 4,
     "metadata": {},
     "output_type": "execute_result"
    }
   ],
   "source": [
    "#1) Create a cities list to store city names.\n",
    "#2) Using a for loop, iterate through the coordinates' zipped tuple.\n",
    "#3) Use citipy.nearest_city() and inside the parentheses of nearest_city(), add the latitude and longitude in this format: coordinate[0], coordinate[1].\n",
    "    # The citipy module finds the nearest city to the latitude and longitude pair with a population of 500 or more.\n",
    "    #3a) Because of the zip function The zip object packs each pair of lats and lngs having the same index in their respective array into a tuple. Where each latitude and longitude in a tuple can be       accessed by the index of 0 and 1\n",
    "#4) To print the city name, chain the city_name to the nearest_city() function.\n",
    "#5) We add a decision statement with the logical operator not in to determine whether the found city is already in the cities list. If not, then we'll use the append() function to add it. \n",
    "    # We are doing this because among the 1,500 latitudes and longitudes, there might be duplicates, which will retrieve duplicate cities, and we want to be sure we capture only the unique cities.\n",
    "\n",
    "# Create a list for holding the cities.\n",
    "cities = []\n",
    "# Identify the nearest city for each latitude and longitude combination.\n",
    "for coordinate in coordinates:\n",
    "    city = citipy.nearest_city(coordinate[0], coordinate[1]).city_name\n",
    "    # If the city is unique, then we will add it to the cities list.\n",
    "    if city not in cities:\n",
    "        cities.append(city)\n",
    "# Print the city count to confirm sufficient count.\n",
    "len(cities)    "
   ]
  },
  {
   "cell_type": "code",
   "execution_count": 5,
   "id": "b48ef1e7-e21a-4691-aa1e-52bcab4a052a",
   "metadata": {},
   "outputs": [
    {
     "data": {
      "text/plain": [
       "['krasnaya gorbatka', 'atuona', 'leh', 'severo-kurilsk', 'la ronge']"
      ]
     },
     "execution_count": 5,
     "metadata": {},
     "output_type": "execute_result"
    }
   ],
   "source": [
    "#view a part of cities list\n",
    "cities[:5]"
   ]
  },
  {
   "cell_type": "markdown",
   "id": "96b23433-5c34-47b7-97a5-6b695a59465f",
   "metadata": {},
   "source": [
    "# Get the City Weather Data\n",
    "Let's use pseudocode to map out, at a high level, how we will get the weather data for each city for the website.\n",
    "\n",
    "1. Import our dependencies and initialize counters and an empty list that will hold the weather data.\n",
    "2. Loop through the cities list.\n",
    "    - Group the cities in sets of 50 to log the process as we find the weather data for each city.\n",
    "3. Two counters will be needed here: one to log the city count from 1 to 50, and another for the sets.\n",
    "4. Build the city_url or endpoint for each city.\n",
    "5. Log the URL and the record and set numbers.\n",
    "6. Make an API request for each city.\n",
    "7. Parse the JSON weather data for the following:\n",
    "    - City, country, and date\n",
    "    - Latitude and longitude\n",
    "    - Maximum temperature\n",
    "    - Humidity\n",
    "    - Cloudiness\n",
    "    - Wind speed\n",
    "8. Add the data to a list in a dictionary format and then convert the list to a DataFrame.\n",
    "\n",
    "## 1.Import Dependencies, and Initialize an Empty List and Counters"
   ]
  },
  {
   "cell_type": "code",
   "execution_count": 6,
   "id": "951a986c-ef97-4fa5-bc45-6c6bc42ca0ca",
   "metadata": {},
   "outputs": [],
   "source": [
    "# Import the requests library.\n",
    "    # To request JSON data over the internet, we use the Requests Library in Python. \n",
    "import requests\n",
    "\n",
    "# Use the citipy module to determine city based on latitude and longitude.\n",
    "    # Under \"Looking up with coordinates,\" the first line says from citipy import citipy, meaning we'll import the citipy script from the citipy module.\n",
    "    # When a Python file containing a script is imported to use in another Python script, the .py extension does not need to be added to the name of the file when using the import statement.    \n",
    "from citipy import citipy\n",
    "\n",
    "# Import the datetime module from the datetime library.\n",
    "    # If we want to convert the timestamp to the International Organization for Standardization (ISO) format, or YYYY-MM-DD-HH-MM-SS, we need to use the Python datetime module.\n",
    "from datetime import datetime\n",
    "\n",
    "# Import the API key.\n",
    "    # When a Python file containing a script is imported to use in another Python script, the .py extension does not need to be added to the name of the file when using the import statement.\n",
    "from config import weather_api_key"
   ]
  },
  {
   "cell_type": "markdown",
   "id": "dfa3ad71-f3f6-4140-aae1-abdd2dd73ec4",
   "metadata": {},
   "source": [
    "At the top of our code block, we are going to declare an empty list, city_data = []; add a print statement that references the beginning of the logging; and create counters for the record numbers, 1–50; and the set counter. n the code block, we have initialized the counters at 1 because we want the first iteration of the logging for each recorded response and the set to start at 1."
   ]
  },
  {
   "cell_type": "code",
   "execution_count": 7,
   "id": "f2b3605f-bf13-413e-a238-fa31aed02a4c",
   "metadata": {},
   "outputs": [
    {
     "name": "stdout",
     "output_type": "stream",
     "text": [
      "Beginning Data Retrieval     \n",
      "-----------------------------\n"
     ]
    }
   ],
   "source": [
    "# Create an empty list to hold the weather data.\n",
    "city_data = []\n",
    "\n",
    "# Print the beginning of the logging.\n",
    "print(\"Beginning Data Retrieval     \")\n",
    "print(\"-----------------------------\")\n",
    "\n",
    "# Create counters.\n",
    "record_count = 1\n",
    "set_count = 1"
   ]
  },
  {
   "cell_type": "code",
   "execution_count": 8,
   "id": "45276d70-14e8-486c-b74d-5ff565672ac5",
   "metadata": {},
   "outputs": [],
   "source": [
    "# Starting URL for Weather Map API Call.\n",
    "# Structure example = api.openweathermap.org/data/2.5/weather?q={city name},{state code},{country code}&appid={API key}\n",
    "url = \"http://api.openweathermap.org/data/2.5/weather?units=Imperial&APPID=\" + weather_api_key"
   ]
  },
  {
   "cell_type": "markdown",
   "id": "8568740a-6de2-456b-b53a-6508223811de",
   "metadata": {},
   "source": [
    "## 2-6. Loop Through the List of Cities and Build the City URL\n",
    "Next, we need to iterate through our list of cities and begin building the URL for each city, while grouping our records in sets of 50. To do this, use for i in range(len(cities)) and the index to tell us when we get to 50. We can also retrieve the city from the cities list and add it to the city_url by using indexing, as shown in the following code:"
   ]
  },
  {
   "cell_type": "code",
   "execution_count": 9,
   "id": "f44da572-ad04-4376-939c-68aa9384c40b",
   "metadata": {},
   "outputs": [],
   "source": [
    "# Loop through all the cities in our list.\n",
    "for i in range(len(cities)):\n",
    "\n",
    "    # Group cities in sets of 50 for logging purposes.\n",
    "    if (i % 50 == 0 and i >= 50):\n",
    "        set_count += 1\n",
    "        record_count = 1\n",
    "    # Create endpoint URL with each city.\n",
    "    city_url = url + \"&q=\" + cities[i]\n",
    "\n",
    "    # Not Part of the final code block, but for me to see what the cities list looks like after the for loop to spot the error.\n",
    "    city_error_view = i"
   ]
  },
  {
   "cell_type": "code",
   "execution_count": 10,
   "id": "72c00d59-340c-4c7e-a570-6c803454f66a",
   "metadata": {},
   "outputs": [
    {
     "data": {
      "text/plain": [
       "610"
      ]
     },
     "execution_count": 10,
     "metadata": {},
     "output_type": "execute_result"
    }
   ],
   "source": [
    "# View a part of cities list\n",
    "city_url\n",
    "city_error_view"
   ]
  },
  {
   "cell_type": "markdown",
   "id": "1b144216-c2df-433f-809f-eb3042ba88eb",
   "metadata": {},
   "source": [
    "Every time we want to reference the city in our code, we need to use the indexing on the cities list. Unfortunately, this will cause programming errors when we are building the city_url because it adds the index, not the city name, to the city_url. To fix this issue, we need to create another for loop to get the city from the cities list.\n",
    "\n",
    "Instead of using two for loops, we can use the enumerate() method as an alternative way to iterate through the list of cities and retrieve both the index, and the city from the list. The syntax for the enumerate() method is the following:\n",
    "\n",
    "for i, item in enumerate(list):\n",
    "\n",
    "Let's use the enumerate() method to get the index of the city for logging purposes and the city for creating an endpoint URL. Add the following code below our counters."
   ]
  },
  {
   "cell_type": "code",
   "execution_count": 11,
   "id": "7e0790f8-523f-4630-a9d3-a84e94165dff",
   "metadata": {},
   "outputs": [],
   "source": [
    "# Create the for loop with the enumerate() method and reference the index and the city in the list.\n",
    "    # Use the enumerate() method to get the index of the city for logging purposes and the city for creating an endpoint URL as an alternative \n",
    "    # way to iterate through the list of cities and retrieve both the index, and the city from the list.\n",
    "for i, city in enumerate(cities):    \n",
    "    \n",
    "    # Group cities in sets of 50 for logging purposes.\n",
    "        #In the conditional statement, we check if the remainder of the index divided by 50 is equal to 0 and if the index is greater than or equal to 50. \n",
    "        # If the statement is true, then the set_count and the record_count are incremented by 1.\n",
    "    if (i % 50 == 0 and i >= 50):\n",
    "        # % is modulo operation in python for example expression \"5 mod 2\" would evaluate to 1, because 5 divided by 2 has a quotient of 2 and a remainder of 1, while \"9 mod 3\" would evaluate to 0,\n",
    "        set_count += 1\n",
    "        record_count = 1\n",
    "        \n",
    "    # Create endpoint URL with each city.\n",
    "        # Inside the conditional statement, we create the URL endpoint for each city, as before. However, we are removing the blank spaces in the city name \n",
    "        # and concatenating the city name with, city.replace(\" \",\"+\"). This will find the corresponding weather data for the city instead of finding the weather data for the first part of the city name.\n",
    "            # Compare the URLs for Cabo (Links to an external site.) and Cabo San Lucas\n",
    "    city_url = url + \"&q=\" + city.replace(\" \",\"+\")\n",
    "\n",
    "    # Log the URL, record, and set numbers and the city.\n",
    "        # Add a print statement that tells us the record count and set count, and the city that is being processed.\n",
    "#     print(f\"Processing Record {record_count} of Set {set_count} | {city}\")\n",
    "    # Add 1 to the record count.\n",
    "    record_count += 1"
   ]
  },
  {
   "cell_type": "markdown",
   "id": "5f7b25cd-3b39-42c7-bcb0-892006a88656",
   "metadata": {},
   "source": [
    "### 7. Handle API Request Errors with try-except Blocks\n",
    "\n",
    "We have handled request errors for getting the response from a valid city with an API call using conditional statements. Now we'll learn how to handle errors while parsing weather data from a JSON file.\n",
    "\n",
    "We'll add a try-except block to our code to prevent the API request from stopping prematurely if the city_weather request isn't a valid response. If the request isn't valid, the code will not find the first item requested, which is the dictionary \"coord\" with the code city_lat = city_weather[\"coord\"][\"lat\"], and skip the city and continue to run.\n",
    "\n",
    "The try-except block has similar syntax and structure as the if-else statement. The basic format is as follows:\n",
    "\n",
    "try:\n",
    "  Do something\n",
    "except:\n",
    "  print(\"An exception occurred\")\n",
    "  \n",
    "  \n",
    "We can add a try-except block to our code and, below the tryblock, we will parse the data from the JSON file and add the data to the cities list.\n",
    "\n",
    "Let's add a try block. Then, below the try block, do the following:\n",
    "1. Parse the JSON file.\n",
    "2. Assign variables for each piece of data we need.\n",
    "3. Add the data to the cities list in a dictionary format.\n",
    "\n",
    "Add the following code after record_count += 1."
   ]
  },
  {
   "cell_type": "code",
   "execution_count": 12,
   "id": "b3ebc257-c95e-4741-8787-a8faec870424",
   "metadata": {},
   "outputs": [
    {
     "name": "stdout",
     "output_type": "stream",
     "text": [
      "Beginning Data Retrieval     \n",
      "-----------------------------\n",
      "Processing Record 1 of Set 1 | krasnaya gorbatka\n",
      "Processing Record 2 of Set 1 | atuona\n",
      "Processing Record 3 of Set 1 | leh\n",
      "Processing Record 4 of Set 1 | severo-kurilsk\n",
      "Processing Record 5 of Set 1 | la ronge\n",
      "Processing Record 6 of Set 1 | ivybridge\n",
      "Processing Record 7 of Set 1 | ekuvukeni\n",
      "Processing Record 8 of Set 1 | taolanaro\n",
      "City not found. Skipping...\n",
      "Processing Record 9 of Set 1 | buchanan\n",
      "Processing Record 10 of Set 1 | samalaeulu\n",
      "City not found. Skipping...\n",
      "Processing Record 11 of Set 1 | hermanus\n",
      "Processing Record 12 of Set 1 | cherskiy\n",
      "Processing Record 13 of Set 1 | pedernales\n",
      "Processing Record 14 of Set 1 | flagstaff\n",
      "Processing Record 15 of Set 1 | aquiraz\n",
      "Processing Record 16 of Set 1 | nancha\n",
      "Processing Record 17 of Set 1 | geraldton\n",
      "Processing Record 18 of Set 1 | carnarvon\n",
      "Processing Record 19 of Set 1 | camana\n",
      "Processing Record 20 of Set 1 | butaritari\n",
      "Processing Record 21 of Set 1 | ahipara\n",
      "Processing Record 22 of Set 1 | barrow\n",
      "Processing Record 23 of Set 1 | husavik\n",
      "Processing Record 24 of Set 1 | tasiilaq\n",
      "Processing Record 25 of Set 1 | miquelon\n",
      "Processing Record 26 of Set 1 | moyale\n",
      "Processing Record 27 of Set 1 | mataura\n",
      "Processing Record 28 of Set 1 | kupang\n",
      "Processing Record 29 of Set 1 | rikitea\n",
      "Processing Record 30 of Set 1 | hobart\n",
      "Processing Record 31 of Set 1 | asau\n",
      "Processing Record 32 of Set 1 | kestel\n",
      "Processing Record 33 of Set 1 | kaitangata\n",
      "Processing Record 34 of Set 1 | longyearbyen\n",
      "Processing Record 35 of Set 1 | kashi\n",
      "Processing Record 36 of Set 1 | port alfred\n",
      "Processing Record 37 of Set 1 | saint george\n",
      "Processing Record 38 of Set 1 | tpig\n",
      "Processing Record 39 of Set 1 | qaqortoq\n",
      "Processing Record 40 of Set 1 | qaanaaq\n",
      "Processing Record 41 of Set 1 | punta arenas\n",
      "Processing Record 42 of Set 1 | opuwo\n",
      "Processing Record 43 of Set 1 | busselton\n",
      "Processing Record 44 of Set 1 | rocha\n",
      "Processing Record 45 of Set 1 | chokurdakh\n",
      "Processing Record 46 of Set 1 | hilo\n",
      "Processing Record 47 of Set 1 | norman wells\n",
      "Processing Record 48 of Set 1 | avarua\n",
      "Processing Record 49 of Set 1 | den helder\n",
      "Processing Record 50 of Set 1 | ushuaia\n",
      "Processing Record 1 of Set 2 | azare\n",
      "Processing Record 2 of Set 2 | thompson\n",
      "Processing Record 3 of Set 2 | ayacucho\n",
      "Processing Record 4 of Set 2 | salisbury\n",
      "Processing Record 5 of Set 2 | jamestown\n",
      "Processing Record 6 of Set 2 | east london\n",
      "Processing Record 7 of Set 2 | avera\n",
      "Processing Record 8 of Set 2 | arraial do cabo\n",
      "Processing Record 9 of Set 2 | casas grandes\n",
      "Processing Record 10 of Set 2 | uromi\n",
      "Processing Record 11 of Set 2 | talnakh\n",
      "Processing Record 12 of Set 2 | khatanga\n",
      "Processing Record 13 of Set 2 | kara-tyube\n",
      "Processing Record 14 of Set 2 | choya\n",
      "Processing Record 15 of Set 2 | san luis\n",
      "Processing Record 16 of Set 2 | san rafael\n",
      "Processing Record 17 of Set 2 | hambantota\n",
      "Processing Record 18 of Set 2 | attawapiskat\n",
      "City not found. Skipping...\n",
      "Processing Record 19 of Set 2 | albany\n",
      "Processing Record 20 of Set 2 | kentau\n",
      "Processing Record 21 of Set 2 | clarence town\n",
      "Processing Record 22 of Set 2 | uwayl\n",
      "City not found. Skipping...\n",
      "Processing Record 23 of Set 2 | bolshegrivskoye\n",
      "City not found. Skipping...\n",
      "Processing Record 24 of Set 2 | mount isa\n",
      "Processing Record 25 of Set 2 | shingu\n",
      "Processing Record 26 of Set 2 | aktau\n",
      "Processing Record 27 of Set 2 | sao filipe\n",
      "Processing Record 28 of Set 2 | baruun-urt\n",
      "Processing Record 29 of Set 2 | one hundred mile house\n",
      "City not found. Skipping...\n",
      "Processing Record 30 of Set 2 | harper\n",
      "Processing Record 31 of Set 2 | cidreira\n",
      "Processing Record 32 of Set 2 | det udom\n",
      "Processing Record 33 of Set 2 | sabha\n",
      "Processing Record 34 of Set 2 | bowen\n",
      "Processing Record 35 of Set 2 | hithadhoo\n",
      "Processing Record 36 of Set 2 | antofagasta\n",
      "Processing Record 37 of Set 2 | dikson\n",
      "Processing Record 38 of Set 2 | tuktoyaktuk\n",
      "Processing Record 39 of Set 2 | saint-philippe\n",
      "Processing Record 40 of Set 2 | narsaq\n",
      "Processing Record 41 of Set 2 | san andres\n",
      "Processing Record 42 of Set 2 | chuy\n",
      "Processing Record 43 of Set 2 | mumford\n",
      "Processing Record 44 of Set 2 | comodoro rivadavia\n",
      "Processing Record 45 of Set 2 | chegdomyn\n",
      "Processing Record 46 of Set 2 | la libertad\n",
      "Processing Record 47 of Set 2 | vaitupu\n",
      "City not found. Skipping...\n",
      "Processing Record 48 of Set 2 | yellowknife\n",
      "Processing Record 49 of Set 2 | borogontsy\n",
      "Processing Record 50 of Set 2 | basco\n",
      "Processing Record 1 of Set 3 | bilibino\n",
      "Processing Record 2 of Set 3 | mahebourg\n",
      "Processing Record 3 of Set 3 | bagdarin\n",
      "Processing Record 4 of Set 3 | bilma\n",
      "Processing Record 5 of Set 3 | saleaula\n",
      "City not found. Skipping...\n",
      "Processing Record 6 of Set 3 | beringovskiy\n",
      "Processing Record 7 of Set 3 | kapuskasing\n",
      "Processing Record 8 of Set 3 | bang saphan\n",
      "Processing Record 9 of Set 3 | plettenberg bay\n",
      "Processing Record 10 of Set 3 | belushya guba\n",
      "City not found. Skipping...\n",
      "Processing Record 11 of Set 3 | cabo san lucas\n",
      "Processing Record 12 of Set 3 | laredo\n",
      "Processing Record 13 of Set 3 | katobu\n",
      "Processing Record 14 of Set 3 | alofi\n",
      "Processing Record 15 of Set 3 | albanel\n",
      "Processing Record 16 of Set 3 | ayan\n",
      "Processing Record 17 of Set 3 | puerto ayora\n",
      "Processing Record 18 of Set 3 | vaini\n",
      "Processing Record 19 of Set 3 | meulaboh\n",
      "Processing Record 20 of Set 3 | tuatapere\n",
      "Processing Record 21 of Set 3 | lata\n",
      "Processing Record 22 of Set 3 | sitka\n",
      "Processing Record 23 of Set 3 | lumsden\n",
      "Processing Record 24 of Set 3 | victoria\n",
      "Processing Record 25 of Set 3 | sao gabriel\n",
      "Processing Record 26 of Set 3 | sobolevo\n",
      "Processing Record 27 of Set 3 | barcelona\n",
      "Processing Record 28 of Set 3 | jiwani\n",
      "Processing Record 29 of Set 3 | mar del plata\n",
      "Processing Record 30 of Set 3 | tura\n",
      "Processing Record 31 of Set 3 | lompoc\n",
      "Processing Record 32 of Set 3 | parrita\n",
      "Processing Record 33 of Set 3 | bluff\n",
      "Processing Record 34 of Set 3 | kapaa\n",
      "Processing Record 35 of Set 3 | faanui\n",
      "Processing Record 36 of Set 3 | mamallapuram\n",
      "Processing Record 37 of Set 3 | bonthe\n",
      "Processing Record 38 of Set 3 | san patricio\n",
      "Processing Record 39 of Set 3 | bolungarvik\n",
      "City not found. Skipping...\n",
      "Processing Record 40 of Set 3 | illoqqortoormiut\n",
      "City not found. Skipping...\n",
      "Processing Record 41 of Set 3 | nzega\n",
      "Processing Record 42 of Set 3 | pevek\n",
      "Processing Record 43 of Set 3 | iquitos\n",
      "Processing Record 44 of Set 3 | bambous virieux\n",
      "Processing Record 45 of Set 3 | bredasdorp\n",
      "Processing Record 46 of Set 3 | souillac\n",
      "Processing Record 47 of Set 3 | ribeira grande\n",
      "Processing Record 48 of Set 3 | iqaluit\n",
      "Processing Record 49 of Set 3 | adrar\n",
      "Processing Record 50 of Set 3 | muhos\n",
      "Processing Record 1 of Set 4 | gurgan\n",
      "City not found. Skipping...\n",
      "Processing Record 2 of Set 4 | mizdah\n",
      "Processing Record 3 of Set 4 | okhotsk\n",
      "Processing Record 4 of Set 4 | starosubkhangulovo\n",
      "Processing Record 5 of Set 4 | bulungu\n",
      "Processing Record 6 of Set 4 | nikolskoye\n",
      "Processing Record 7 of Set 4 | upernavik\n",
      "Processing Record 8 of Set 4 | tessalit\n",
      "Processing Record 9 of Set 4 | yaan\n",
      "Processing Record 10 of Set 4 | ixtapa\n",
      "Processing Record 11 of Set 4 | san juan de uraba\n",
      "Processing Record 12 of Set 4 | kahului\n",
      "Processing Record 13 of Set 4 | sur\n",
      "Processing Record 14 of Set 4 | cairns\n",
      "Processing Record 15 of Set 4 | nouadhibou\n",
      "Processing Record 16 of Set 4 | velsk\n",
      "Processing Record 17 of Set 4 | barentsburg\n",
      "City not found. Skipping...\n",
      "Processing Record 18 of Set 4 | rio gallegos\n",
      "Processing Record 19 of Set 4 | grand river south east\n",
      "City not found. Skipping...\n",
      "Processing Record 20 of Set 4 | sikonge\n",
      "Processing Record 21 of Set 4 | akureyri\n",
      "Processing Record 22 of Set 4 | canutama\n",
      "Processing Record 23 of Set 4 | toungoo\n",
      "City not found. Skipping...\n",
      "Processing Record 24 of Set 4 | luwuk\n",
      "Processing Record 25 of Set 4 | esperance\n",
      "Processing Record 26 of Set 4 | bethel\n",
      "Processing Record 27 of Set 4 | blenheim\n",
      "Processing Record 28 of Set 4 | alexandria\n",
      "Processing Record 29 of Set 4 | katangli\n",
      "Processing Record 30 of Set 4 | sao geraldo do araguaia\n",
      "Processing Record 31 of Set 4 | anito\n",
      "Processing Record 32 of Set 4 | mehamn\n",
      "Processing Record 33 of Set 4 | isla vista\n",
      "Processing Record 34 of Set 4 | honiara\n",
      "Processing Record 35 of Set 4 | cape town\n",
      "Processing Record 36 of Set 4 | yondo\n",
      "Processing Record 37 of Set 4 | pangkalanbuun\n",
      "Processing Record 38 of Set 4 | hovd\n",
      "Processing Record 39 of Set 4 | saint-augustin\n",
      "Processing Record 40 of Set 4 | pauini\n",
      "Processing Record 41 of Set 4 | esso\n",
      "Processing Record 42 of Set 4 | tshikapa\n",
      "Processing Record 43 of Set 4 | new norfolk\n",
      "Processing Record 44 of Set 4 | tetange\n",
      "Processing Record 45 of Set 4 | hasaki\n",
      "Processing Record 46 of Set 4 | coquimbo\n",
      "Processing Record 47 of Set 4 | yaransk\n",
      "Processing Record 48 of Set 4 | lagoa\n",
      "Processing Record 49 of Set 4 | kavieng\n",
      "Processing Record 50 of Set 4 | peniche\n",
      "Processing Record 1 of Set 5 | joniskis\n",
      "Processing Record 2 of Set 5 | yulara\n",
      "Processing Record 3 of Set 5 | bandarbeyla\n",
      "Processing Record 4 of Set 5 | hvide sande\n",
      "Processing Record 5 of Set 5 | the valley\n",
      "Processing Record 6 of Set 5 | nizhniy tsasuchey\n",
      "Processing Record 7 of Set 5 | caravelas\n",
      "Processing Record 8 of Set 5 | vardo\n",
      "Processing Record 9 of Set 5 | georgetown\n",
      "Processing Record 10 of Set 5 | zhigansk\n",
      "Processing Record 11 of Set 5 | nampa\n",
      "Processing Record 12 of Set 5 | gorey\n",
      "Processing Record 13 of Set 5 | hami\n",
      "Processing Record 14 of Set 5 | maarianhamina\n",
      "Processing Record 15 of Set 5 | pemba\n",
      "Processing Record 16 of Set 5 | dakar\n",
      "Processing Record 17 of Set 5 | ancud\n",
      "Processing Record 18 of Set 5 | richards bay\n",
      "Processing Record 19 of Set 5 | erzincan\n",
      "Processing Record 20 of Set 5 | saint-francois\n",
      "Processing Record 21 of Set 5 | villanueva de cordoba\n",
      "Processing Record 22 of Set 5 | provideniya\n",
      "Processing Record 23 of Set 5 | tsihombe\n",
      "City not found. Skipping...\n",
      "Processing Record 24 of Set 5 | lebu\n",
      "Processing Record 25 of Set 5 | castro\n",
      "Processing Record 26 of Set 5 | necochea\n",
      "Processing Record 27 of Set 5 | denpasar\n",
      "Processing Record 28 of Set 5 | takoradi\n",
      "Processing Record 29 of Set 5 | wahiawa\n",
      "Processing Record 30 of Set 5 | yeppoon\n",
      "Processing Record 31 of Set 5 | clyde river\n",
      "Processing Record 32 of Set 5 | presidencia roque saenz pena\n",
      "Processing Record 33 of Set 5 | port-cartier\n",
      "Processing Record 34 of Set 5 | mahanoro\n",
      "Processing Record 35 of Set 5 | krasnoselkup\n",
      "Processing Record 36 of Set 5 | saskylakh\n",
      "Processing Record 37 of Set 5 | kysyl-syr\n",
      "Processing Record 38 of Set 5 | wronki\n",
      "Processing Record 39 of Set 5 | isetskoye\n",
      "Processing Record 40 of Set 5 | lewiston\n",
      "Processing Record 41 of Set 5 | tiznit\n",
      "Processing Record 42 of Set 5 | atar\n",
      "Processing Record 43 of Set 5 | batagay\n",
      "Processing Record 44 of Set 5 | alpena\n",
      "Processing Record 45 of Set 5 | pyay\n",
      "Processing Record 46 of Set 5 | hanahan\n",
      "Processing Record 47 of Set 5 | ruatoria\n",
      "City not found. Skipping...\n",
      "Processing Record 48 of Set 5 | zyryanka\n",
      "Processing Record 49 of Set 5 | tiksi\n",
      "Processing Record 50 of Set 5 | sinjar\n",
      "Processing Record 1 of Set 6 | nizhneyansk\n",
      "City not found. Skipping...\n",
      "Processing Record 2 of Set 6 | shkurinskaya\n",
      "Processing Record 3 of Set 6 | airai\n",
      "Processing Record 4 of Set 6 | kodiak\n",
      "Processing Record 5 of Set 6 | pangody\n",
      "Processing Record 6 of Set 6 | karamea\n",
      "City not found. Skipping...\n",
      "Processing Record 7 of Set 6 | half moon bay\n",
      "Processing Record 8 of Set 6 | pochutla\n",
      "Processing Record 9 of Set 6 | lindas\n",
      "Processing Record 10 of Set 6 | casper\n",
      "Processing Record 11 of Set 6 | nicoya\n",
      "Processing Record 12 of Set 6 | longavi\n",
      "Processing Record 13 of Set 6 | sinnamary\n",
      "Processing Record 14 of Set 6 | henties bay\n",
      "Processing Record 15 of Set 6 | acarau\n",
      "Processing Record 16 of Set 6 | torbay\n",
      "Processing Record 17 of Set 6 | la paz\n",
      "Processing Record 18 of Set 6 | agadez\n",
      "Processing Record 19 of Set 6 | marcona\n",
      "City not found. Skipping...\n",
      "Processing Record 20 of Set 6 | pacifica\n",
      "Processing Record 21 of Set 6 | port hardy\n",
      "Processing Record 22 of Set 6 | ponta do sol\n",
      "Processing Record 23 of Set 6 | pravda\n",
      "Processing Record 24 of Set 6 | cao bang\n",
      "Processing Record 25 of Set 6 | horta\n",
      "Processing Record 26 of Set 6 | bengkulu\n",
      "Processing Record 27 of Set 6 | sept-iles\n",
      "Processing Record 28 of Set 6 | berdigestyakh\n",
      "Processing Record 29 of Set 6 | anderson\n",
      "Processing Record 30 of Set 6 | ahuimanu\n",
      "Processing Record 31 of Set 6 | paamiut\n",
      "Processing Record 32 of Set 6 | fort nelson\n",
      "Processing Record 33 of Set 6 | isangel\n",
      "Processing Record 34 of Set 6 | yar-sale\n",
      "Processing Record 35 of Set 6 | uyuni\n",
      "Processing Record 36 of Set 6 | tocache\n",
      "Processing Record 37 of Set 6 | gillette\n",
      "Processing Record 38 of Set 6 | pangnirtung\n",
      "Processing Record 39 of Set 6 | turkistan\n",
      "Processing Record 40 of Set 6 | aswan\n",
      "Processing Record 41 of Set 6 | arlit\n",
      "Processing Record 42 of Set 6 | olinda\n",
      "Processing Record 43 of Set 6 | pa daet\n",
      "Processing Record 44 of Set 6 | kathu\n",
      "Processing Record 45 of Set 6 | port elizabeth\n",
      "Processing Record 46 of Set 6 | oksfjord\n",
      "Processing Record 47 of Set 6 | omboue\n",
      "Processing Record 48 of Set 6 | yirol\n",
      "City not found. Skipping...\n",
      "Processing Record 49 of Set 6 | manaquiri\n",
      "Processing Record 50 of Set 6 | fortuna\n",
      "Processing Record 1 of Set 7 | sentyabrskiy\n",
      "City not found. Skipping...\n",
      "Processing Record 2 of Set 7 | seoul\n",
      "Processing Record 3 of Set 7 | disna\n",
      "Processing Record 4 of Set 7 | kaili\n",
      "Processing Record 5 of Set 7 | manavalakurichi\n",
      "Processing Record 6 of Set 7 | zambezi\n",
      "Processing Record 7 of Set 7 | thinadhoo\n",
      "Processing Record 8 of Set 7 | rapid valley\n",
      "Processing Record 9 of Set 7 | mackay\n",
      "Processing Record 10 of Set 7 | namibe\n",
      "Processing Record 11 of Set 7 | esmeraldas\n",
      "Processing Record 12 of Set 7 | jumla\n",
      "Processing Record 13 of Set 7 | santa fe\n",
      "Processing Record 14 of Set 7 | iaciara\n",
      "Processing Record 15 of Set 7 | havre-saint-pierre\n",
      "Processing Record 16 of Set 7 | coahuayana\n",
      "Processing Record 17 of Set 7 | kavaratti\n",
      "Processing Record 18 of Set 7 | pacific grove\n",
      "Processing Record 19 of Set 7 | kibala\n",
      "Processing Record 20 of Set 7 | aksu\n",
      "Processing Record 21 of Set 7 | codrington\n",
      "Processing Record 22 of Set 7 | benjamin constant\n",
      "Processing Record 23 of Set 7 | narasannapeta\n",
      "Processing Record 24 of Set 7 | manga\n",
      "Processing Record 25 of Set 7 | ngukurr\n",
      "City not found. Skipping...\n",
      "Processing Record 26 of Set 7 | bani\n",
      "Processing Record 27 of Set 7 | biltine\n",
      "Processing Record 28 of Set 7 | nola\n",
      "Processing Record 29 of Set 7 | resistencia\n",
      "Processing Record 30 of Set 7 | black river\n",
      "Processing Record 31 of Set 7 | jacareacanga\n",
      "Processing Record 32 of Set 7 | saldanha\n",
      "Processing Record 33 of Set 7 | samana\n",
      "Processing Record 34 of Set 7 | guerrero negro\n",
      "Processing Record 35 of Set 7 | nanakuli\n",
      "Processing Record 36 of Set 7 | riverton\n",
      "Processing Record 37 of Set 7 | bubaque\n",
      "Processing Record 38 of Set 7 | kenai\n",
      "Processing Record 39 of Set 7 | svetlaya\n",
      "Processing Record 40 of Set 7 | vila\n",
      "Processing Record 41 of Set 7 | ginda\n",
      "Processing Record 42 of Set 7 | jeremie\n",
      "Processing Record 43 of Set 7 | warrensburg\n",
      "Processing Record 44 of Set 7 | pierre\n",
      "Processing Record 45 of Set 7 | sambava\n",
      "Processing Record 46 of Set 7 | taoudenni\n",
      "Processing Record 47 of Set 7 | kamenskoye\n",
      "City not found. Skipping...\n",
      "Processing Record 48 of Set 7 | labutta\n",
      "City not found. Skipping...\n",
      "Processing Record 49 of Set 7 | bayonet point\n",
      "Processing Record 50 of Set 7 | rosetta\n",
      "Processing Record 1 of Set 8 | boffa\n",
      "Processing Record 2 of Set 8 | ouadda\n",
      "Processing Record 3 of Set 8 | kamenskiy\n",
      "Processing Record 4 of Set 8 | marawi\n",
      "Processing Record 5 of Set 8 | kaeo\n",
      "Processing Record 6 of Set 8 | huarmey\n",
      "Processing Record 7 of Set 8 | port lincoln\n",
      "Processing Record 8 of Set 8 | berbera\n",
      "Processing Record 9 of Set 8 | noyabrsk\n",
      "Processing Record 10 of Set 8 | sechura\n",
      "Processing Record 11 of Set 8 | luderitz\n",
      "Processing Record 12 of Set 8 | tilichiki\n",
      "Processing Record 13 of Set 8 | los llanos de aridane\n",
      "Processing Record 14 of Set 8 | abreus\n",
      "Processing Record 15 of Set 8 | charters towers\n",
      "Processing Record 16 of Set 8 | puerto escondido\n",
      "Processing Record 17 of Set 8 | caernarfon\n",
      "Processing Record 18 of Set 8 | kaiserslautern\n",
      "Processing Record 19 of Set 8 | cayenne\n",
      "Processing Record 20 of Set 8 | kohat\n",
      "Processing Record 21 of Set 8 | flinders\n",
      "Processing Record 22 of Set 8 | iracoubo\n",
      "Processing Record 23 of Set 8 | itoman\n",
      "Processing Record 24 of Set 8 | ilulissat\n",
      "Processing Record 25 of Set 8 | praia da vitoria\n",
      "Processing Record 26 of Set 8 | eldikan\n",
      "City not found. Skipping...\n",
      "Processing Record 27 of Set 8 | banikoara\n",
      "Processing Record 28 of Set 8 | shimoda\n",
      "Processing Record 29 of Set 8 | soe\n",
      "Processing Record 30 of Set 8 | burica\n",
      "City not found. Skipping...\n",
      "Processing Record 31 of Set 8 | kruisfontein\n",
      "Processing Record 32 of Set 8 | sao miguel do araguaia\n",
      "Processing Record 33 of Set 8 | bismarck\n",
      "Processing Record 34 of Set 8 | san vicente\n",
      "Processing Record 35 of Set 8 | balykshi\n",
      "Processing Record 36 of Set 8 | tumannyy\n",
      "City not found. Skipping...\n",
      "Processing Record 37 of Set 8 | faya\n",
      "Processing Record 38 of Set 8 | grindavik\n",
      "Processing Record 39 of Set 8 | wladyslawowo\n",
      "Processing Record 40 of Set 8 | belaya gora\n",
      "Processing Record 41 of Set 8 | tauberbischofsheim\n",
      "Processing Record 42 of Set 8 | plerin\n",
      "Processing Record 43 of Set 8 | roma\n",
      "Processing Record 44 of Set 8 | ugoofaaru\n",
      "Processing Record 45 of Set 8 | hereford\n",
      "Processing Record 46 of Set 8 | louisbourg\n",
      "City not found. Skipping...\n",
      "Processing Record 47 of Set 8 | gat\n",
      "Processing Record 48 of Set 8 | camocim\n",
      "Processing Record 49 of Set 8 | taltal\n",
      "Processing Record 50 of Set 8 | lavrentiya\n",
      "Processing Record 1 of Set 9 | nauen\n",
      "Processing Record 2 of Set 9 | dingle\n",
      "Processing Record 3 of Set 9 | lewistown\n",
      "Processing Record 4 of Set 9 | abnub\n",
      "Processing Record 5 of Set 9 | padang\n",
      "Processing Record 6 of Set 9 | el estor\n",
      "Processing Record 7 of Set 9 | amderma\n",
      "City not found. Skipping...\n",
      "Processing Record 8 of Set 9 | pasighat\n",
      "Processing Record 9 of Set 9 | karaul\n",
      "City not found. Skipping...\n",
      "Processing Record 10 of Set 9 | kuche\n",
      "City not found. Skipping...\n",
      "Processing Record 11 of Set 9 | rapoltu mare\n",
      "Processing Record 12 of Set 9 | magadan\n",
      "Processing Record 13 of Set 9 | karratha\n",
      "Processing Record 14 of Set 9 | urucara\n",
      "Processing Record 15 of Set 9 | olenino\n",
      "Processing Record 16 of Set 9 | buala\n",
      "Processing Record 17 of Set 9 | pasni\n",
      "Processing Record 18 of Set 9 | yerbogachen\n",
      "Processing Record 19 of Set 9 | jaciara\n",
      "Processing Record 20 of Set 9 | aksarayskiy\n",
      "Processing Record 21 of Set 9 | abay\n",
      "Processing Record 22 of Set 9 | bundaberg\n",
      "Processing Record 23 of Set 9 | bonavista\n",
      "Processing Record 24 of Set 9 | komsomolskiy\n",
      "Processing Record 25 of Set 9 | dien bien\n",
      "City not found. Skipping...\n",
      "Processing Record 26 of Set 9 | siocon\n",
      "Processing Record 27 of Set 9 | goderich\n",
      "Processing Record 28 of Set 9 | almeria\n",
      "Processing Record 29 of Set 9 | klyuchevskiy\n",
      "Processing Record 30 of Set 9 | batagay-alyta\n",
      "Processing Record 31 of Set 9 | pak phanang\n",
      "Processing Record 32 of Set 9 | wawa\n",
      "Processing Record 33 of Set 9 | ngunguru\n",
      "Processing Record 34 of Set 9 | ust-tsilma\n",
      "Processing Record 35 of Set 9 | vuktyl\n",
      "Processing Record 36 of Set 9 | wewak\n",
      "Processing Record 37 of Set 9 | kongolo\n",
      "Processing Record 38 of Set 9 | irece\n",
      "Processing Record 39 of Set 9 | leningradskiy\n",
      "Processing Record 40 of Set 9 | road town\n",
      "Processing Record 41 of Set 9 | dutlwe\n",
      "Processing Record 42 of Set 9 | skwierzyna\n",
      "Processing Record 43 of Set 9 | manicore\n",
      "Processing Record 44 of Set 9 | xiaoweizhai\n",
      "Processing Record 45 of Set 9 | jiaohe\n",
      "Processing Record 46 of Set 9 | murgab\n",
      "Processing Record 47 of Set 9 | ippy\n",
      "Processing Record 48 of Set 9 | shirokiy\n",
      "Processing Record 49 of Set 9 | katsuura\n",
      "Processing Record 50 of Set 9 | tautira\n",
      "Processing Record 1 of Set 10 | qasigiannguit\n",
      "Processing Record 2 of Set 10 | mys shmidta\n",
      "City not found. Skipping...\n",
      "Processing Record 3 of Set 10 | nehe\n",
      "Processing Record 4 of Set 10 | pombas\n",
      "Processing Record 5 of Set 10 | haines junction\n",
      "Processing Record 6 of Set 10 | mogadishu\n",
      "Processing Record 7 of Set 10 | pinas\n",
      "Processing Record 8 of Set 10 | monrovia\n",
      "Processing Record 9 of Set 10 | puri\n",
      "Processing Record 10 of Set 10 | te anau\n",
      "Processing Record 11 of Set 10 | sangueya\n",
      "Processing Record 12 of Set 10 | porto novo\n",
      "Processing Record 13 of Set 10 | providencia\n",
      "Processing Record 14 of Set 10 | yangjiang\n",
      "Processing Record 15 of Set 10 | maxixe\n",
      "Processing Record 16 of Set 10 | potosi\n",
      "Processing Record 17 of Set 10 | sann\n",
      "Processing Record 18 of Set 10 | melilla\n",
      "Processing Record 19 of Set 10 | pastos bons\n",
      "Processing Record 20 of Set 10 | bajil\n",
      "Processing Record 21 of Set 10 | zhob\n",
      "Processing Record 22 of Set 10 | toliary\n",
      "City not found. Skipping...\n",
      "Processing Record 23 of Set 10 | udachnyy\n",
      "Processing Record 24 of Set 10 | caborca\n",
      "Processing Record 25 of Set 10 | matamoros\n",
      "Processing Record 26 of Set 10 | lorengau\n",
      "Processing Record 27 of Set 10 | olafsvik\n",
      "Processing Record 28 of Set 10 | milingimbi\n",
      "City not found. Skipping...\n",
      "Processing Record 29 of Set 10 | seybaplaya\n",
      "Processing Record 30 of Set 10 | umm lajj\n",
      "Processing Record 31 of Set 10 | marktheidenfeld\n",
      "Processing Record 32 of Set 10 | wageningen\n",
      "Processing Record 33 of Set 10 | katherine\n",
      "Processing Record 34 of Set 10 | kangalassy\n",
      "Processing Record 35 of Set 10 | nizhneangarsk\n",
      "Processing Record 36 of Set 10 | bay roberts\n",
      "Processing Record 37 of Set 10 | kloulklubed\n",
      "Processing Record 38 of Set 10 | vila velha\n",
      "Processing Record 39 of Set 10 | gallup\n",
      "Processing Record 40 of Set 10 | baoying\n",
      "Processing Record 41 of Set 10 | tlacotepec\n",
      "Processing Record 42 of Set 10 | hanchuan\n",
      "Processing Record 43 of Set 10 | didwana\n",
      "Processing Record 44 of Set 10 | san cristobal\n",
      "Processing Record 45 of Set 10 | poso\n",
      "Processing Record 46 of Set 10 | egvekinot\n",
      "Processing Record 47 of Set 10 | chabahar\n",
      "Processing Record 48 of Set 10 | bara\n",
      "Processing Record 49 of Set 10 | yinchuan\n",
      "Processing Record 50 of Set 10 | barra patuca\n",
      "Processing Record 1 of Set 11 | winterthur\n",
      "Processing Record 2 of Set 11 | svetlogorsk\n",
      "Processing Record 3 of Set 11 | mandalgovi\n",
      "Processing Record 4 of Set 11 | santa cruz\n",
      "Processing Record 5 of Set 11 | kiruna\n",
      "Processing Record 6 of Set 11 | mastic beach\n",
      "Processing Record 7 of Set 11 | leninskoye\n",
      "Processing Record 8 of Set 11 | juneau\n",
      "Processing Record 9 of Set 11 | ambilobe\n",
      "Processing Record 10 of Set 11 | prince rupert\n",
      "Processing Record 11 of Set 11 | broome\n",
      "Processing Record 12 of Set 11 | sorland\n",
      "Processing Record 13 of Set 11 | klaksvik\n",
      "Processing Record 14 of Set 11 | a\n",
      "City not found. Skipping...\n",
      "Processing Record 15 of Set 11 | fukue\n",
      "Processing Record 16 of Set 11 | babanusah\n",
      "City not found. Skipping...\n",
      "Processing Record 17 of Set 11 | poum\n",
      "Processing Record 18 of Set 11 | nanortalik\n",
      "Processing Record 19 of Set 11 | hokitika\n",
      "Processing Record 20 of Set 11 | namatanai\n",
      "Processing Record 21 of Set 11 | carabalan\n",
      "Processing Record 22 of Set 11 | matara\n",
      "Processing Record 23 of Set 11 | lolua\n",
      "City not found. Skipping...\n",
      "Processing Record 24 of Set 11 | panalingaan\n",
      "Processing Record 25 of Set 11 | fatehabad\n",
      "Processing Record 26 of Set 11 | mahon\n",
      "Processing Record 27 of Set 11 | iralaya\n",
      "Processing Record 28 of Set 11 | roald\n",
      "Processing Record 29 of Set 11 | karaton\n",
      "Processing Record 30 of Set 11 | jardim\n",
      "Processing Record 31 of Set 11 | kirakira\n",
      "Processing Record 32 of Set 11 | ponta delgada\n",
      "Processing Record 33 of Set 11 | igarapava\n",
      "Processing Record 34 of Set 11 | northam\n",
      "Processing Record 35 of Set 11 | lasa\n",
      "Processing Record 36 of Set 11 | samusu\n",
      "City not found. Skipping...\n",
      "Processing Record 37 of Set 11 | buenos aires\n",
      "Processing Record 38 of Set 11 | evensk\n",
      "Processing Record 39 of Set 11 | aromashevo\n",
      "Processing Record 40 of Set 11 | damaturu\n",
      "Processing Record 41 of Set 11 | ruteng\n",
      "Processing Record 42 of Set 11 | luneville\n",
      "Processing Record 43 of Set 11 | karakendzha\n",
      "City not found. Skipping...\n",
      "Processing Record 44 of Set 11 | grand-santi\n",
      "Processing Record 45 of Set 11 | oda\n",
      "Processing Record 46 of Set 11 | halifax\n",
      "Processing Record 47 of Set 11 | honningsvag\n",
      "Processing Record 48 of Set 11 | carauari\n",
      "Processing Record 49 of Set 11 | port blair\n",
      "Processing Record 50 of Set 11 | teguldet\n",
      "Processing Record 1 of Set 12 | khorixas\n",
      "Processing Record 2 of Set 12 | ulladulla\n",
      "Processing Record 3 of Set 12 | hamilton\n",
      "Processing Record 4 of Set 12 | manakara\n",
      "Processing Record 5 of Set 12 | aklavik\n",
      "Processing Record 6 of Set 12 | toba\n",
      "Processing Record 7 of Set 12 | pocri\n",
      "Processing Record 8 of Set 12 | kiunga\n",
      "Processing Record 9 of Set 12 | jalu\n",
      "Processing Record 10 of Set 12 | alice springs\n",
      "Processing Record 11 of Set 12 | svencionys\n",
      "Processing Record 12 of Set 12 | satitoa\n",
      "City not found. Skipping...\n",
      "Processing Record 13 of Set 12 | tharrawaddy\n",
      "City not found. Skipping...\n",
      "Processing Record 14 of Set 12 | keti bandar\n",
      "Processing Record 15 of Set 12 | amursk\n",
      "Processing Record 16 of Set 12 | atasu\n",
      "Processing Record 17 of Set 12 | touros\n",
      "Processing Record 18 of Set 12 | malakal\n",
      "Processing Record 19 of Set 12 | siare\n",
      "City not found. Skipping...\n",
      "Processing Record 20 of Set 12 | bathsheba\n",
      "Processing Record 21 of Set 12 | senador guiomard\n",
      "Processing Record 22 of Set 12 | valdivia\n",
      "Processing Record 23 of Set 12 | portland\n",
      "Processing Record 24 of Set 12 | karlskrona\n",
      "Processing Record 25 of Set 12 | angoche\n",
      "Processing Record 26 of Set 12 | alamosa\n",
      "Processing Record 27 of Set 12 | verkhnevilyuysk\n",
      "Processing Record 28 of Set 12 | tonota\n",
      "Processing Record 29 of Set 12 | sao jose da coroa grande\n",
      "Processing Record 30 of Set 12 | vestmannaeyjar\n",
      "Processing Record 31 of Set 12 | bijapur\n",
      "Processing Record 32 of Set 12 | lemoore\n",
      "Processing Record 33 of Set 12 | saint-paul\n",
      "Processing Record 34 of Set 12 | constitucion\n",
      "Processing Record 35 of Set 12 | deputatskiy\n",
      "Processing Record 36 of Set 12 | crab hill\n",
      "City not found. Skipping...\n",
      "Processing Record 37 of Set 12 | uch\n",
      "Processing Record 38 of Set 12 | bria\n",
      "Processing Record 39 of Set 12 | vallenar\n",
      "Processing Record 40 of Set 12 | show low\n",
      "Processing Record 41 of Set 12 | turtkul\n",
      "City not found. Skipping...\n",
      "Processing Record 42 of Set 12 | nome\n",
      "Processing Record 43 of Set 12 | janauba\n",
      "Processing Record 44 of Set 12 | pisco\n",
      "Processing Record 45 of Set 12 | salekhard\n",
      "Processing Record 46 of Set 12 | tizimin\n",
      "Processing Record 47 of Set 12 | masty\n",
      "Processing Record 48 of Set 12 | hirara\n",
      "Processing Record 49 of Set 12 | cururupu\n",
      "Processing Record 50 of Set 12 | daugai\n",
      "Processing Record 1 of Set 13 | imbituba\n",
      "Processing Record 2 of Set 13 | fairbanks\n",
      "Processing Record 3 of Set 13 | puro\n",
      "Processing Record 4 of Set 13 | ust-karsk\n",
      "Processing Record 5 of Set 13 | kazalinsk\n",
      "City not found. Skipping...\n",
      "Processing Record 6 of Set 13 | ust-maya\n",
      "Processing Record 7 of Set 13 | mocuba\n",
      "Processing Record 8 of Set 13 | hearst\n",
      "Processing Record 9 of Set 13 | gambo\n",
      "Processing Record 10 of Set 13 | ribeira brava\n",
      "Processing Record 11 of Set 13 | chara\n",
      "-----------------------------\n",
      "Data Retrieval Complete      \n",
      "-----------------------------\n"
     ]
    }
   ],
   "source": [
    "# Create an empty list to hold the weather data.\n",
    "city_data = []\n",
    "\n",
    "# Print the beginning of the logging.\n",
    "print(\"Beginning Data Retrieval     \")\n",
    "print(\"-----------------------------\")\n",
    "\n",
    "# Create counters.\n",
    "record_count = 1\n",
    "set_count = 1\n",
    "\n",
    "# Create the for loop with the enumerate() method and reference the index and the city in the list.\n",
    "    # Use the enumerate() method to get the index of the city for logging purposes and the city for creating an endpoint URL as an alternative \n",
    "    # way to iterate through the list of cities and retrieve both the index, and the city from the list.\n",
    "for i, city in enumerate(cities):    \n",
    "    \n",
    "    # Group cities in sets of 50 for logging purposes.\n",
    "        #In the conditional statement, we check if the remainder of the index divided by 50 is equal to 0 and if the index is greater than or equal to 50. \n",
    "        # If the statement is true, then the set_count and the record_count are incremented by 1.\n",
    "    if (i % 50 == 0 and i >= 50):\n",
    "        # % is modulo operation in python for example expression \"5 mod 2\" would evaluate to 1, because 5 divided by 2 has a quotient of 2 and a remainder of 1, while \"9 mod 3\" would evaluate to 0,\n",
    "        set_count += 1\n",
    "        record_count = 1\n",
    "        \n",
    "    # Create endpoint URL with each city.\n",
    "        # Inside the conditional statement, we create the URL endpoint for each city, as before. However, we are removing the blank spaces in the city name \n",
    "        # and concatenating the city name with, city.replace(\" \",\"+\"). This will find the corresponding weather data for the city instead of finding the weather data for the first part of the city name.\n",
    "            # Compare the URLs for Cabo (Links to an external site.) and Cabo San Lucas\n",
    "    city_url = url + \"&q=\" + city.replace(\" \",\"+\")\n",
    "\n",
    "    # Log the URL, record, and set numbers and the city.\n",
    "        # Add a print statement that tells us the record count and set count, and the city that is being processed.\n",
    "    print(f\"Processing Record {record_count} of Set {set_count} | {city}\")\n",
    "    # Add 1 to the record count.\n",
    "    record_count += 1\n",
    "    \n",
    "    # Run an API request for each of the cities.\n",
    "    try:\n",
    "        # Parse the JSON for the current city and retrieve data.\n",
    "            # If there is no weather data for the city, i.e. , a <Response [404]> then there is no weather to retrieve and City not found. Skipping... is printed.\n",
    "        city_weather = requests.get(city_url).json()\n",
    "        # Parse out the needed data.\n",
    "            # If there is weather data for the city, we will retrieve the latitude, longitude, maximum temperature, humidity, cloudiness, wind speed, and date and assign those values to variables.\n",
    "            # We could write a try-except block for each one of these parameters to handle the KeyError if the data wasn't found, but since these parameters are always present in the response this won't be necessary.\n",
    "        city_lat = city_weather[\"coord\"][\"lat\"]\n",
    "        city_lng = city_weather[\"coord\"][\"lon\"]\n",
    "        city_max_temp = city_weather[\"main\"][\"temp_max\"]\n",
    "        city_humidity = city_weather[\"main\"][\"humidity\"]\n",
    "        city_clouds = city_weather[\"clouds\"][\"all\"]\n",
    "        city_wind = city_weather[\"wind\"][\"speed\"]\n",
    "        city_country = city_weather[\"sys\"][\"country\"]\n",
    "        # Convert the date to ISO standard.\n",
    "        city_date = datetime.utcfromtimestamp(city_weather[\"dt\"]).strftime('%Y-%m-%d %H:%M:%S')\n",
    "        # Append the city information into city_data list.\n",
    "            # We append the cities list with a dictionary for that city, where the key-value pairs are the values from our weather parameters.\n",
    "        city_data.append({\"City\": city.title(),\n",
    "                          \"Lat\": city_lat,\n",
    "                          \"Lng\": city_lng,\n",
    "                          \"Max Temp\": city_max_temp,\n",
    "                          \"Humidity\": city_humidity,\n",
    "                          \"Cloudiness\": city_clouds,\n",
    "                          \"Wind Speed\": city_wind,\n",
    "                          \"Country\": city_country,\n",
    "                          \"Date\": city_date})\n",
    "\n",
    "# If an error is experienced, skip the city.\n",
    "    # Below the try block and after the except block, we add the closing print statement, which will let us know the data retrieval has been completed. \n",
    "    # Make sure that your except block is indented and in line with the try block, and that the print statements are flush with the margin.\n",
    "    except:\n",
    "        print(\"City not found. Skipping...\")\n",
    "        # Add the pass statement, which is a general purpose statement to handle all errors encountered and to allow the program to continue.\n",
    "        # NOTE: Generally, it isn't good coding practice to add the pass statement to the except block. Ideally, we want to handle or catch each error as it happens and do something specific \n",
    "            # (e.g., add another try block or print out the error).\n",
    "        pass\n",
    "\n",
    "# Indicate that Data Loading is complete.\n",
    "print(\"-----------------------------\")\n",
    "print(\"Data Retrieval Complete      \")\n",
    "print(\"-----------------------------\")"
   ]
  },
  {
   "cell_type": "markdown",
   "id": "f6863acc-f74f-4e55-b77c-02635188bdda",
   "metadata": {},
   "source": [
    "After collecting all our data, we can tally the number of cities in the city_data array of dictionaries using the len() function."
   ]
  },
  {
   "cell_type": "code",
   "execution_count": 13,
   "id": "7504f206-dac7-4f75-822c-82dbccf88beb",
   "metadata": {},
   "outputs": [
    {
     "data": {
      "text/plain": [
       "564"
      ]
     },
     "execution_count": 13,
     "metadata": {},
     "output_type": "execute_result"
    }
   ],
   "source": [
    "len(city_data)"
   ]
  },
  {
   "cell_type": "markdown",
   "id": "66033e1b-c95b-4558-87f3-77ed8c985c27",
   "metadata": {},
   "source": [
    "# Create a DataFrame of City Weather Data\n",
    "Our next steps will entail converting the array of dictionaries to a DataFrame, ensuring the columns are in the correct order, and exporting the DataFrame to a comma-separated (CSV) file. In a new cell, add the following code to convert the array of dictionaries to a Pandas DataFrame and run the cell."
   ]
  },
  {
   "cell_type": "code",
   "execution_count": 14,
   "id": "f4d1db08-44e8-4a66-b035-854b3244fc05",
   "metadata": {},
   "outputs": [
    {
     "data": {
      "text/html": [
       "<div>\n",
       "<style scoped>\n",
       "    .dataframe tbody tr th:only-of-type {\n",
       "        vertical-align: middle;\n",
       "    }\n",
       "\n",
       "    .dataframe tbody tr th {\n",
       "        vertical-align: top;\n",
       "    }\n",
       "\n",
       "    .dataframe thead th {\n",
       "        text-align: right;\n",
       "    }\n",
       "</style>\n",
       "<table border=\"1\" class=\"dataframe\">\n",
       "  <thead>\n",
       "    <tr style=\"text-align: right;\">\n",
       "      <th></th>\n",
       "      <th>City</th>\n",
       "      <th>Lat</th>\n",
       "      <th>Lng</th>\n",
       "      <th>Max Temp</th>\n",
       "      <th>Humidity</th>\n",
       "      <th>Cloudiness</th>\n",
       "      <th>Wind Speed</th>\n",
       "      <th>Country</th>\n",
       "      <th>Date</th>\n",
       "    </tr>\n",
       "  </thead>\n",
       "  <tbody>\n",
       "    <tr>\n",
       "      <th>0</th>\n",
       "      <td>Krasnaya Gorbatka</td>\n",
       "      <td>55.8703</td>\n",
       "      <td>41.7641</td>\n",
       "      <td>24.37</td>\n",
       "      <td>75</td>\n",
       "      <td>100</td>\n",
       "      <td>11.18</td>\n",
       "      <td>RU</td>\n",
       "      <td>2021-12-01 23:49:04</td>\n",
       "    </tr>\n",
       "    <tr>\n",
       "      <th>1</th>\n",
       "      <td>Atuona</td>\n",
       "      <td>-9.8000</td>\n",
       "      <td>-139.0333</td>\n",
       "      <td>78.58</td>\n",
       "      <td>79</td>\n",
       "      <td>57</td>\n",
       "      <td>21.27</td>\n",
       "      <td>PF</td>\n",
       "      <td>2021-12-01 23:49:04</td>\n",
       "    </tr>\n",
       "    <tr>\n",
       "      <th>2</th>\n",
       "      <td>Leh</td>\n",
       "      <td>34.1667</td>\n",
       "      <td>77.5833</td>\n",
       "      <td>18.97</td>\n",
       "      <td>50</td>\n",
       "      <td>97</td>\n",
       "      <td>3.02</td>\n",
       "      <td>IN</td>\n",
       "      <td>2021-12-01 23:49:04</td>\n",
       "    </tr>\n",
       "    <tr>\n",
       "      <th>3</th>\n",
       "      <td>Severo-Kurilsk</td>\n",
       "      <td>50.6789</td>\n",
       "      <td>156.1250</td>\n",
       "      <td>42.03</td>\n",
       "      <td>91</td>\n",
       "      <td>100</td>\n",
       "      <td>20.85</td>\n",
       "      <td>RU</td>\n",
       "      <td>2021-12-01 23:49:05</td>\n",
       "    </tr>\n",
       "    <tr>\n",
       "      <th>4</th>\n",
       "      <td>La Ronge</td>\n",
       "      <td>55.1001</td>\n",
       "      <td>-105.2842</td>\n",
       "      <td>14.25</td>\n",
       "      <td>85</td>\n",
       "      <td>90</td>\n",
       "      <td>6.91</td>\n",
       "      <td>CA</td>\n",
       "      <td>2021-12-01 23:49:05</td>\n",
       "    </tr>\n",
       "    <tr>\n",
       "      <th>5</th>\n",
       "      <td>Ivybridge</td>\n",
       "      <td>50.3904</td>\n",
       "      <td>-3.9191</td>\n",
       "      <td>40.57</td>\n",
       "      <td>87</td>\n",
       "      <td>25</td>\n",
       "      <td>8.52</td>\n",
       "      <td>GB</td>\n",
       "      <td>2021-12-01 23:49:05</td>\n",
       "    </tr>\n",
       "    <tr>\n",
       "      <th>6</th>\n",
       "      <td>Ekuvukeni</td>\n",
       "      <td>-28.4675</td>\n",
       "      <td>30.1551</td>\n",
       "      <td>66.31</td>\n",
       "      <td>64</td>\n",
       "      <td>34</td>\n",
       "      <td>3.29</td>\n",
       "      <td>ZA</td>\n",
       "      <td>2021-12-01 23:49:06</td>\n",
       "    </tr>\n",
       "    <tr>\n",
       "      <th>7</th>\n",
       "      <td>Buchanan</td>\n",
       "      <td>5.8808</td>\n",
       "      <td>-10.0467</td>\n",
       "      <td>78.82</td>\n",
       "      <td>84</td>\n",
       "      <td>30</td>\n",
       "      <td>5.41</td>\n",
       "      <td>LR</td>\n",
       "      <td>2021-12-01 23:49:06</td>\n",
       "    </tr>\n",
       "    <tr>\n",
       "      <th>8</th>\n",
       "      <td>Hermanus</td>\n",
       "      <td>-34.4187</td>\n",
       "      <td>19.2345</td>\n",
       "      <td>60.91</td>\n",
       "      <td>74</td>\n",
       "      <td>79</td>\n",
       "      <td>10.49</td>\n",
       "      <td>ZA</td>\n",
       "      <td>2021-12-01 23:49:06</td>\n",
       "    </tr>\n",
       "    <tr>\n",
       "      <th>9</th>\n",
       "      <td>Cherskiy</td>\n",
       "      <td>68.7500</td>\n",
       "      <td>161.3000</td>\n",
       "      <td>-30.06</td>\n",
       "      <td>100</td>\n",
       "      <td>98</td>\n",
       "      <td>4.21</td>\n",
       "      <td>RU</td>\n",
       "      <td>2021-12-01 23:49:07</td>\n",
       "    </tr>\n",
       "  </tbody>\n",
       "</table>\n",
       "</div>"
      ],
      "text/plain": [
       "                City      Lat       Lng  Max Temp  Humidity  Cloudiness  \\\n",
       "0  Krasnaya Gorbatka  55.8703   41.7641     24.37        75         100   \n",
       "1             Atuona  -9.8000 -139.0333     78.58        79          57   \n",
       "2                Leh  34.1667   77.5833     18.97        50          97   \n",
       "3     Severo-Kurilsk  50.6789  156.1250     42.03        91         100   \n",
       "4           La Ronge  55.1001 -105.2842     14.25        85          90   \n",
       "5          Ivybridge  50.3904   -3.9191     40.57        87          25   \n",
       "6          Ekuvukeni -28.4675   30.1551     66.31        64          34   \n",
       "7           Buchanan   5.8808  -10.0467     78.82        84          30   \n",
       "8           Hermanus -34.4187   19.2345     60.91        74          79   \n",
       "9           Cherskiy  68.7500  161.3000    -30.06       100          98   \n",
       "\n",
       "   Wind Speed Country                 Date  \n",
       "0       11.18      RU  2021-12-01 23:49:04  \n",
       "1       21.27      PF  2021-12-01 23:49:04  \n",
       "2        3.02      IN  2021-12-01 23:49:04  \n",
       "3       20.85      RU  2021-12-01 23:49:05  \n",
       "4        6.91      CA  2021-12-01 23:49:05  \n",
       "5        8.52      GB  2021-12-01 23:49:05  \n",
       "6        3.29      ZA  2021-12-01 23:49:06  \n",
       "7        5.41      LR  2021-12-01 23:49:06  \n",
       "8       10.49      ZA  2021-12-01 23:49:06  \n",
       "9        4.21      RU  2021-12-01 23:49:07  "
      ]
     },
     "execution_count": 14,
     "metadata": {},
     "output_type": "execute_result"
    }
   ],
   "source": [
    "# Convert the array of dictionaries to a Pandas DataFrame.\n",
    "city_data_df = pd.DataFrame(city_data)\n",
    "city_data_df.head(10)"
   ]
  },
  {
   "cell_type": "markdown",
   "id": "622b2bc8-591b-4e4c-91e5-b683d55fd1df",
   "metadata": {},
   "source": [
    "Next, we'll reorder the columns as City, Country, Date, Lat, Lng, Max Temp, Humidity, Cloudiness, and Wind Speed, so they are easy to read.\n",
    "\n",
    "Recall that to reorder the columns, we assign a variable to an array of the columns in the order we want them to appear:\n",
    "\n",
    "new_column_order = [\"column2\", \"column4\", \"column1\"]\n",
    "\n",
    "Then, we assign a new or the same DataFrame with new column order:\n",
    "\n",
    "df = df[new_column_order]"
   ]
  },
  {
   "cell_type": "code",
   "execution_count": 15,
   "id": "971a55c9-6a50-47fa-aafb-4eecb490ef43",
   "metadata": {},
   "outputs": [
    {
     "data": {
      "text/plain": [
       "['City',\n",
       " 'Lat',\n",
       " 'Lng',\n",
       " 'Max Temp',\n",
       " 'Humidity',\n",
       " 'Cloudiness',\n",
       " 'Wind Speed',\n",
       " 'Country',\n",
       " 'Date']"
      ]
     },
     "execution_count": 15,
     "metadata": {},
     "output_type": "execute_result"
    }
   ],
   "source": [
    "list(city_data_df.columns)"
   ]
  },
  {
   "cell_type": "code",
   "execution_count": 16,
   "id": "9fabef22-e7cc-4c29-988f-03ca3649447c",
   "metadata": {},
   "outputs": [],
   "source": [
    "# Reorder the columns as City, Country, Date, Lat, Lng, Max Temp, Humidity, Cloudiness, and Wind Speed, so they are easy to read.\n",
    "new_column_order = ['City', 'Country', 'Date', 'Lat','Lng','Max Temp','Humidity','Cloudiness', 'Wind Speed',]"
   ]
  },
  {
   "cell_type": "code",
   "execution_count": 17,
   "id": "b7efa60b-d0c3-402b-bb5c-a22186575a98",
   "metadata": {},
   "outputs": [
    {
     "data": {
      "text/html": [
       "<div>\n",
       "<style scoped>\n",
       "    .dataframe tbody tr th:only-of-type {\n",
       "        vertical-align: middle;\n",
       "    }\n",
       "\n",
       "    .dataframe tbody tr th {\n",
       "        vertical-align: top;\n",
       "    }\n",
       "\n",
       "    .dataframe thead th {\n",
       "        text-align: right;\n",
       "    }\n",
       "</style>\n",
       "<table border=\"1\" class=\"dataframe\">\n",
       "  <thead>\n",
       "    <tr style=\"text-align: right;\">\n",
       "      <th></th>\n",
       "      <th>City</th>\n",
       "      <th>Country</th>\n",
       "      <th>Date</th>\n",
       "      <th>Lat</th>\n",
       "      <th>Lng</th>\n",
       "      <th>Max Temp</th>\n",
       "      <th>Humidity</th>\n",
       "      <th>Cloudiness</th>\n",
       "      <th>Wind Speed</th>\n",
       "    </tr>\n",
       "  </thead>\n",
       "  <tbody>\n",
       "    <tr>\n",
       "      <th>0</th>\n",
       "      <td>Krasnaya Gorbatka</td>\n",
       "      <td>RU</td>\n",
       "      <td>2021-12-01 23:49:04</td>\n",
       "      <td>55.8703</td>\n",
       "      <td>41.7641</td>\n",
       "      <td>24.37</td>\n",
       "      <td>75</td>\n",
       "      <td>100</td>\n",
       "      <td>11.18</td>\n",
       "    </tr>\n",
       "    <tr>\n",
       "      <th>1</th>\n",
       "      <td>Atuona</td>\n",
       "      <td>PF</td>\n",
       "      <td>2021-12-01 23:49:04</td>\n",
       "      <td>-9.8000</td>\n",
       "      <td>-139.0333</td>\n",
       "      <td>78.58</td>\n",
       "      <td>79</td>\n",
       "      <td>57</td>\n",
       "      <td>21.27</td>\n",
       "    </tr>\n",
       "    <tr>\n",
       "      <th>2</th>\n",
       "      <td>Leh</td>\n",
       "      <td>IN</td>\n",
       "      <td>2021-12-01 23:49:04</td>\n",
       "      <td>34.1667</td>\n",
       "      <td>77.5833</td>\n",
       "      <td>18.97</td>\n",
       "      <td>50</td>\n",
       "      <td>97</td>\n",
       "      <td>3.02</td>\n",
       "    </tr>\n",
       "    <tr>\n",
       "      <th>3</th>\n",
       "      <td>Severo-Kurilsk</td>\n",
       "      <td>RU</td>\n",
       "      <td>2021-12-01 23:49:05</td>\n",
       "      <td>50.6789</td>\n",
       "      <td>156.1250</td>\n",
       "      <td>42.03</td>\n",
       "      <td>91</td>\n",
       "      <td>100</td>\n",
       "      <td>20.85</td>\n",
       "    </tr>\n",
       "    <tr>\n",
       "      <th>4</th>\n",
       "      <td>La Ronge</td>\n",
       "      <td>CA</td>\n",
       "      <td>2021-12-01 23:49:05</td>\n",
       "      <td>55.1001</td>\n",
       "      <td>-105.2842</td>\n",
       "      <td>14.25</td>\n",
       "      <td>85</td>\n",
       "      <td>90</td>\n",
       "      <td>6.91</td>\n",
       "    </tr>\n",
       "    <tr>\n",
       "      <th>...</th>\n",
       "      <td>...</td>\n",
       "      <td>...</td>\n",
       "      <td>...</td>\n",
       "      <td>...</td>\n",
       "      <td>...</td>\n",
       "      <td>...</td>\n",
       "      <td>...</td>\n",
       "      <td>...</td>\n",
       "      <td>...</td>\n",
       "    </tr>\n",
       "    <tr>\n",
       "      <th>559</th>\n",
       "      <td>Mocuba</td>\n",
       "      <td>MZ</td>\n",
       "      <td>2021-12-01 23:51:48</td>\n",
       "      <td>-16.8392</td>\n",
       "      <td>36.9856</td>\n",
       "      <td>75.31</td>\n",
       "      <td>93</td>\n",
       "      <td>71</td>\n",
       "      <td>4.38</td>\n",
       "    </tr>\n",
       "    <tr>\n",
       "      <th>560</th>\n",
       "      <td>Hearst</td>\n",
       "      <td>CA</td>\n",
       "      <td>2021-12-01 23:50:02</td>\n",
       "      <td>49.6835</td>\n",
       "      <td>-83.6665</td>\n",
       "      <td>19.65</td>\n",
       "      <td>94</td>\n",
       "      <td>100</td>\n",
       "      <td>11.14</td>\n",
       "    </tr>\n",
       "    <tr>\n",
       "      <th>561</th>\n",
       "      <td>Gambo</td>\n",
       "      <td>CF</td>\n",
       "      <td>2021-12-01 23:51:49</td>\n",
       "      <td>4.6482</td>\n",
       "      <td>22.2633</td>\n",
       "      <td>72.14</td>\n",
       "      <td>90</td>\n",
       "      <td>100</td>\n",
       "      <td>2.66</td>\n",
       "    </tr>\n",
       "    <tr>\n",
       "      <th>562</th>\n",
       "      <td>Ribeira Brava</td>\n",
       "      <td>PT</td>\n",
       "      <td>2021-12-01 23:51:49</td>\n",
       "      <td>32.6500</td>\n",
       "      <td>-17.0667</td>\n",
       "      <td>65.71</td>\n",
       "      <td>69</td>\n",
       "      <td>21</td>\n",
       "      <td>7.49</td>\n",
       "    </tr>\n",
       "    <tr>\n",
       "      <th>563</th>\n",
       "      <td>Chara</td>\n",
       "      <td>RU</td>\n",
       "      <td>2021-12-01 23:51:50</td>\n",
       "      <td>56.9064</td>\n",
       "      <td>118.2631</td>\n",
       "      <td>-1.89</td>\n",
       "      <td>82</td>\n",
       "      <td>85</td>\n",
       "      <td>1.95</td>\n",
       "    </tr>\n",
       "  </tbody>\n",
       "</table>\n",
       "<p>564 rows × 9 columns</p>\n",
       "</div>"
      ],
      "text/plain": [
       "                  City Country                 Date      Lat       Lng  \\\n",
       "0    Krasnaya Gorbatka      RU  2021-12-01 23:49:04  55.8703   41.7641   \n",
       "1               Atuona      PF  2021-12-01 23:49:04  -9.8000 -139.0333   \n",
       "2                  Leh      IN  2021-12-01 23:49:04  34.1667   77.5833   \n",
       "3       Severo-Kurilsk      RU  2021-12-01 23:49:05  50.6789  156.1250   \n",
       "4             La Ronge      CA  2021-12-01 23:49:05  55.1001 -105.2842   \n",
       "..                 ...     ...                  ...      ...       ...   \n",
       "559             Mocuba      MZ  2021-12-01 23:51:48 -16.8392   36.9856   \n",
       "560             Hearst      CA  2021-12-01 23:50:02  49.6835  -83.6665   \n",
       "561              Gambo      CF  2021-12-01 23:51:49   4.6482   22.2633   \n",
       "562      Ribeira Brava      PT  2021-12-01 23:51:49  32.6500  -17.0667   \n",
       "563              Chara      RU  2021-12-01 23:51:50  56.9064  118.2631   \n",
       "\n",
       "     Max Temp  Humidity  Cloudiness  Wind Speed  \n",
       "0       24.37        75         100       11.18  \n",
       "1       78.58        79          57       21.27  \n",
       "2       18.97        50          97        3.02  \n",
       "3       42.03        91         100       20.85  \n",
       "4       14.25        85          90        6.91  \n",
       "..        ...       ...         ...         ...  \n",
       "559     75.31        93          71        4.38  \n",
       "560     19.65        94         100       11.14  \n",
       "561     72.14        90         100        2.66  \n",
       "562     65.71        69          21        7.49  \n",
       "563     -1.89        82          85        1.95  \n",
       "\n",
       "[564 rows x 9 columns]"
      ]
     },
     "execution_count": 17,
     "metadata": {},
     "output_type": "execute_result"
    }
   ],
   "source": [
    "city_data_df = city_data_df[new_column_order]\n",
    "city_data_df "
   ]
  },
  {
   "cell_type": "markdown",
   "id": "ecd4aa0d-e416-44a3-b48d-86022b55baeb",
   "metadata": {},
   "source": [
    "Lastly, following the instructions below, we'll create an output file to save the DataFrame as a CSV in a new folder for that file.\n",
    "\n",
    "In our World_Weather_Analysis folder, create a new folder called \"weather_data.\" Add the following code to a new cell, run the cell, then confirm your CSV file is in the folder.\n",
    "\n",
    "# Create the output file (CSV).\n",
    "\n",
    "The last line in the code block will export the DataFrame to a CSV file, with the index label (or column A) header as \"City_ID.\" If we ever need to export the CSV file to a DataFrame, that header will be present in the DataFrame.\n",
    "\n",
    "We've completed our tasks for making API calls, parsing the response, and collecting the data for our project. Before we move on to graphing and statistical analysis, let's update our GitHub repository."
   ]
  },
  {
   "cell_type": "code",
   "execution_count": 18,
   "id": "1644e98a-e307-4081-9096-abc6ffcd0f49",
   "metadata": {},
   "outputs": [],
   "source": [
    "# Create the output file (CSV).\n",
    "output_data_file = \"weather_data/cities.csv\"\n",
    "# Export the City_Data into a CSV.\n",
    "city_data_df.to_csv(output_data_file, index_label=\"City_ID\")"
   ]
  },
  {
   "cell_type": "markdown",
   "id": "4de79433-4632-402a-b74f-30beeba7ff15",
   "metadata": {
    "tags": []
   },
   "source": [
    "# Plot Latitude vs. Temperature\n",
    "## Get Data for Plotting\n",
    "\n",
    "First, we'll retrieve the data we need to create our scatter plots. We will need latitude, maximum temperature, humidity, cloudiness, and wind speed from all the cities. Add the following code to a new cell and run the cell."
   ]
  },
  {
   "cell_type": "code",
   "execution_count": 19,
   "id": "f32763e6-58ae-4518-a001-fa2259678a16",
   "metadata": {},
   "outputs": [],
   "source": [
    "# Extract relevant fields from the DataFrame for plotting.\n",
    "lats = city_data_df[\"Lat\"]\n",
    "max_temps = city_data_df[\"Max Temp\"]\n",
    "humidity = city_data_df[\"Humidity\"]\n",
    "cloudiness = city_data_df[\"Cloudiness\"]\n",
    "wind_speed = city_data_df[\"Wind Speed\"]"
   ]
  },
  {
   "cell_type": "code",
   "execution_count": 20,
   "id": "c847a3dc-66ea-4646-9794-6e3022410fae",
   "metadata": {},
   "outputs": [
    {
     "data": {
      "text/plain": [
       "1638402711.898452"
      ]
     },
     "execution_count": 20,
     "metadata": {},
     "output_type": "execute_result"
    }
   ],
   "source": [
    "# Import the time module.\n",
    "    #  import the time module to get the current date, rather than the datetime module that we used to convert the date.\n",
    "import time\n",
    "# Get today's date in seconds.\n",
    "today = time.time()\n",
    "today"
   ]
  },
  {
   "cell_type": "markdown",
   "id": "25fb407f-ef9f-403f-835e-18c05c49f4d0",
   "metadata": {},
   "source": [
    "When we call the time() function with the time module, we get the output of today's time in seconds since January 1, 1970, as a floating-point decimal number.\n",
    "\n",
    "The format for time appears like the datetime stamp for the JSON weather data. We can convert this using the string format method, strftime() and pass the formatting parameters for our date in parentheses. To get the format for today, we can add %x inside the parentheses.\n",
    "\n",
    "In the API_practice file, add strftime(\"%x\")to the time module for our today variable and run the cell. The output will be today's date."
   ]
  },
  {
   "cell_type": "code",
   "execution_count": 21,
   "id": "f0674cf5-4da0-4c10-9c7b-172840080afa",
   "metadata": {},
   "outputs": [
    {
     "data": {
      "text/plain": [
       "'12/01/21'"
      ]
     },
     "execution_count": 21,
     "metadata": {},
     "output_type": "execute_result"
    }
   ],
   "source": [
    "today = time.strftime(\"%x\")\n",
    "today"
   ]
  },
  {
   "cell_type": "code",
   "execution_count": 22,
   "id": "f1239ab4-fa20-47a1-a8e2-aa76030aade7",
   "metadata": {},
   "outputs": [
    {
     "data": {
      "image/png": "[encoded data removed]",
      "text/plain": [
       "<Figure size 432x288 with 1 Axes>"
      ]
     },
     "metadata": {
      "needs_background": "light"
     },
     "output_type": "display_data"
    }
   ],
   "source": [
    "# Import time module\n",
    "import time\n",
    "\n",
    "# Build the scatter plot for latitude vs. max temperature.\n",
    "plt.scatter(lats,\n",
    "            max_temps,\n",
    "            edgecolor=\"black\", linewidths=1, marker=\"o\",\n",
    "            alpha=0.8, label=\"Cities\")\n",
    "\n",
    "# Incorporate the other graph properties.\n",
    "plt.title(f\"City Latitude vs. Max Temperature \"+ time.strftime(\"%x\"))\n",
    "plt.ylabel(\"Max Temperature (F)\")\n",
    "plt.xlabel(\"Latitude\")\n",
    "plt.grid(True)\n",
    "\n",
    "# Save the figure.\n",
    "plt.savefig(\"weather_data/Fig1.png\")\n",
    "\n",
    "# Show plot.\n",
    "plt.show()"
   ]
  },
  {
   "cell_type": "markdown",
   "id": "ab7e1d3a-f8d3-4a7c-83b2-5f5acf5e998d",
   "metadata": {},
   "source": [
    "## Plot Latitude vs. Humidity"
   ]
  },
  {
   "cell_type": "code",
   "execution_count": 23,
   "id": "6791412e-8faf-4dfa-8c28-64480fea33f4",
   "metadata": {},
   "outputs": [
    {
     "data": {
      "image/png": "[encoded data removed]",
      "text/plain": [
       "<Figure size 432x288 with 1 Axes>"
      ]
     },
     "metadata": {
      "needs_background": "light"
     },
     "output_type": "display_data"
    }
   ],
   "source": [
    "# Build the scatter plots for latitude vs. humidity.\n",
    "plt.scatter(lats,\n",
    "            humidity,\n",
    "            edgecolor=\"black\", linewidths=1, marker=\"o\",\n",
    "            alpha=0.8, label=\"Cities\")\n",
    "\n",
    "# Incorporate the other graph properties.\n",
    "plt.title(f\"City Latitude vs. Humidity \"+ time.strftime(\"%x\"))\n",
    "plt.ylabel(\"Humidity (%)\")\n",
    "plt.xlabel(\"Latitude\")\n",
    "plt.grid(True)\n",
    "# Save the figure.\n",
    "plt.savefig(\"weather_data/Fig2.png\")\n",
    "# Show plot.\n",
    "plt.show()"
   ]
  },
  {
   "cell_type": "markdown",
   "id": "c9544237-fa67-41c9-b119-ea305d157fa1",
   "metadata": {},
   "source": [
    "## Plot Latitude vs. Cloudiness"
   ]
  },
  {
   "cell_type": "code",
   "execution_count": 24,
   "id": "8c0f5a45-0cca-483c-922c-6677fb0e5b17",
   "metadata": {},
   "outputs": [
    {
     "data": {
      "image/png": "[encoded data removed]",
      "text/plain": [
       "<Figure size 432x288 with 1 Axes>"
      ]
     },
     "metadata": {
      "needs_background": "light"
     },
     "output_type": "display_data"
    }
   ],
   "source": [
    "# Build the scatter plots for latitude vs. cloudiness.\n",
    "plt.scatter(lats,\n",
    "            cloudiness,\n",
    "            edgecolor=\"black\", linewidths=1, marker=\"o\",\n",
    "            alpha=0.8, label=\"Cities\")\n",
    "\n",
    "# Incorporate the other graph properties.\n",
    "plt.title(f\"City Latitude vs. Cloudiness (%) \"+ time.strftime(\"%x\"))\n",
    "plt.ylabel(\"Cloudiness (%)\")\n",
    "plt.xlabel(\"Latitude\")\n",
    "plt.grid(True)\n",
    "# Save the figure.\n",
    "plt.savefig(\"weather_data/Fig3.png\")\n",
    "# Show plot.\n",
    "plt.show()"
   ]
  },
  {
   "cell_type": "markdown",
   "id": "e1277937-cdd1-46e2-8a37-9e6f59fd7334",
   "metadata": {},
   "source": [
    "## Plot Latitude vs. Wind Speed"
   ]
  },
  {
   "cell_type": "code",
   "execution_count": 25,
   "id": "69de03ce-9686-48c2-8cd4-025e793f0f18",
   "metadata": {},
   "outputs": [
    {
     "data": {
      "image/png": "[encoded data removed]",
      "text/plain": [
       "<Figure size 432x288 with 1 Axes>"
      ]
     },
     "metadata": {
      "needs_background": "light"
     },
     "output_type": "display_data"
    }
   ],
   "source": [
    "# Build the scatter plots for latitude vs. wind speed.\n",
    "plt.scatter(lats,\n",
    "            wind_speed,\n",
    "            edgecolor=\"black\", linewidths=1, marker=\"o\",\n",
    "            alpha=0.8, label=\"Cities\")\n",
    "\n",
    "# Incorporate the other graph properties.\n",
    "plt.title(f\"City Latitude vs. Wind Speed \"+ time.strftime(\"%x\"))\n",
    "plt.ylabel(\"Wind Speed (mph)\")\n",
    "plt.xlabel(\"Latitude\")\n",
    "plt.grid(True)\n",
    "# Save the figure.\n",
    "plt.savefig(\"weather_data/Fig4.png\")\n",
    "# Show plot.\n",
    "plt.show()"
   ]
  },
  {
   "cell_type": "markdown",
   "id": "adf6c77d-708c-47e6-ac48-b6ad37aac3b5",
   "metadata": {},
   "source": [
    "## Find the Correlation Between Latitude and Maximum Temperature\n",
    "\n",
    "We will reuse this code from the randome_numbers.ipynb with minor changes for each weather parameter in each hemisphere. The variables for each graph are as follows:\n",
    "1. The x values, the latitudes\n",
    "2. The y values, each of the four weather parameters\n",
    "3. The y label, the weather parameter being plotted\n",
    "4. The x- and y-values given as a tuple, (10,40), for the regression line equation to be placed on the scatter plot.\n",
    "\n",
    "With only four small changes to the code, this is a great time to convert our linear regression calculation and plotting to a function! In the function, we can add these four parameters as variables, and when we call the function, pass values to those variables.\n",
    "\n",
    "### Create a Linear Regression Function"
   ]
  },
  {
   "cell_type": "code",
   "execution_count": 26,
   "id": "49a9eccb-441a-4152-aefc-8e1995ee1acf",
   "metadata": {},
   "outputs": [],
   "source": [
    "# Import linregress\n",
    "from scipy.stats import linregress\n",
    "\n",
    "# Create a function to create perform linear regression on the weather data\n",
    "# and plot a regression line and the equation with the data.\n",
    "def plot_linear_regression(x_values, y_values, title, y_label, text_coordinates):\n",
    "\n",
    "    # Run regression on hemisphere weather data.\n",
    "    (slope, intercept, r_value, p_value, std_err) = linregress(x_values, y_values)\n",
    "\n",
    "    # Calculate the regression line \"y values\" from the slope and intercept.\n",
    "    regress_values = x_values * slope + intercept\n",
    "    # Get the equation of the line.\n",
    "    line_eq = \"y = \" + str(round(slope,2)) + \"x + \" + str(round(intercept,2))\n",
    "    # Create a scatter plot and plot the regression line.\n",
    "    plt.scatter(x_values,y_values)\n",
    "    plt.plot(x_values,regress_values,\"r\")\n",
    "    # Annotate the text for the line equation.\n",
    "    plt.annotate(line_eq, text_coordinates, fontsize=15, color=\"red\")\n",
    "    plt.title(title)\n",
    "    plt.xlabel('Latitude')\n",
    "    plt.ylabel(y_label)\n",
    "    plt.show()"
   ]
  },
  {
   "cell_type": "markdown",
   "id": "b776b29f-7583-4edc-89c5-3d99a0f4085b",
   "metadata": {},
   "source": [
    "### Create the Hemisphere DataFrames\n",
    "We will add some code to perform regression analysis on the maximum temperatures in the Northern and Southern Hemispheres. To do this, we will need to create Northern Hemisphere DataFrames from the city_data_df DataFrame.\n",
    "\n",
    "To create a new DataFrame from a current DataFrame, we can use the loc method on the current DataFrame. The loc method accesses a group of rows and columns in the current DataFrame by an index, labels, or a Boolean array. The syntax to get a specific row from a current DataFrame is row = df.loc[row_index].\n",
    "\n",
    "Let's apply this method to our city_data_df DataFrame by adding the code index13 = city_data_df.loc[13] in a cell and running the cell. The output will present all the information at index 13 of the city_data_df DataFrame. Note that you may see a different city in your output cell than the one shown in the following image.\n"
   ]
  },
  {
   "cell_type": "code",
   "execution_count": 27,
   "id": "e004e907-f0cf-4b3c-b40e-87947f5adf83",
   "metadata": {},
   "outputs": [
    {
     "data": {
      "text/plain": [
       "City                       Nancha\n",
       "Country                        CN\n",
       "Date          2021-12-01 23:49:08\n",
       "Lat                       47.1333\n",
       "Lng                      129.2667\n",
       "Max Temp                     9.19\n",
       "Humidity                       91\n",
       "Cloudiness                     80\n",
       "Wind Speed                   2.44\n",
       "Name: 13, dtype: object"
      ]
     },
     "execution_count": 27,
     "metadata": {},
     "output_type": "execute_result"
    }
   ],
   "source": [
    "index_row13 = city_data_df.loc[13]\n",
    "index_row13"
   ]
  },
  {
   "cell_type": "markdown",
   "id": "4b838bf5-b8c1-44a0-892e-95faac3563d8",
   "metadata": {},
   "source": [
    "We can also filter a DataFrame based on a value of a row. For instance, if we wanted to get all Northern Hemisphere latitudes, for latitudes greater than or equal to 0, we can filter the city_data_df DataFrame using the code city_data_df[\"Lat\"] >= 0. Executing this code will return either \"True\" or \"False\" for all the rows that meet these criteria."
   ]
  },
  {
   "cell_type": "code",
   "execution_count": 28,
   "id": "50952a46-fefc-45a1-9f0e-40a4ab888ad7",
   "metadata": {},
   "outputs": [
    {
     "data": {
      "text/plain": [
       "0       True\n",
       "1      False\n",
       "2       True\n",
       "3       True\n",
       "4       True\n",
       "       ...  \n",
       "559    False\n",
       "560     True\n",
       "561     True\n",
       "562     True\n",
       "563     True\n",
       "Name: Lat, Length: 564, dtype: bool"
      ]
     },
     "execution_count": 28,
     "metadata": {},
     "output_type": "execute_result"
    }
   ],
   "source": [
    "city_data_df[\"Lat\"] >= 0\n"
   ]
  },
  {
   "cell_type": "markdown",
   "id": "bcd3afad-7e56-4d70-9d74-42e0dc264cd3",
   "metadata": {},
   "source": [
    "Also, since this is a DataFrame, we can add the head() method at the end to get the first five rows, not counting the row of column headings."
   ]
  },
  {
   "cell_type": "code",
   "execution_count": 30,
   "id": "0c716140-d854-4d2b-b15a-10220bbe15fe",
   "metadata": {},
   "outputs": [
    {
     "data": {
      "text/html": [
       "<div>\n",
       "<style scoped>\n",
       "    .dataframe tbody tr th:only-of-type {\n",
       "        vertical-align: middle;\n",
       "    }\n",
       "\n",
       "    .dataframe tbody tr th {\n",
       "        vertical-align: top;\n",
       "    }\n",
       "\n",
       "    .dataframe thead th {\n",
       "        text-align: right;\n",
       "    }\n",
       "</style>\n",
       "<table border=\"1\" class=\"dataframe\">\n",
       "  <thead>\n",
       "    <tr style=\"text-align: right;\">\n",
       "      <th></th>\n",
       "      <th>City</th>\n",
       "      <th>Country</th>\n",
       "      <th>Date</th>\n",
       "      <th>Lat</th>\n",
       "      <th>Lng</th>\n",
       "      <th>Max Temp</th>\n",
       "      <th>Humidity</th>\n",
       "      <th>Cloudiness</th>\n",
       "      <th>Wind Speed</th>\n",
       "    </tr>\n",
       "  </thead>\n",
       "  <tbody>\n",
       "    <tr>\n",
       "      <th>0</th>\n",
       "      <td>Krasnaya Gorbatka</td>\n",
       "      <td>RU</td>\n",
       "      <td>2021-12-01 23:49:04</td>\n",
       "      <td>55.8703</td>\n",
       "      <td>41.7641</td>\n",
       "      <td>24.37</td>\n",
       "      <td>75</td>\n",
       "      <td>100</td>\n",
       "      <td>11.18</td>\n",
       "    </tr>\n",
       "    <tr>\n",
       "      <th>2</th>\n",
       "      <td>Leh</td>\n",
       "      <td>IN</td>\n",
       "      <td>2021-12-01 23:49:04</td>\n",
       "      <td>34.1667</td>\n",
       "      <td>77.5833</td>\n",
       "      <td>18.97</td>\n",
       "      <td>50</td>\n",
       "      <td>97</td>\n",
       "      <td>3.02</td>\n",
       "    </tr>\n",
       "    <tr>\n",
       "      <th>3</th>\n",
       "      <td>Severo-Kurilsk</td>\n",
       "      <td>RU</td>\n",
       "      <td>2021-12-01 23:49:05</td>\n",
       "      <td>50.6789</td>\n",
       "      <td>156.1250</td>\n",
       "      <td>42.03</td>\n",
       "      <td>91</td>\n",
       "      <td>100</td>\n",
       "      <td>20.85</td>\n",
       "    </tr>\n",
       "    <tr>\n",
       "      <th>4</th>\n",
       "      <td>La Ronge</td>\n",
       "      <td>CA</td>\n",
       "      <td>2021-12-01 23:49:05</td>\n",
       "      <td>55.1001</td>\n",
       "      <td>-105.2842</td>\n",
       "      <td>14.25</td>\n",
       "      <td>85</td>\n",
       "      <td>90</td>\n",
       "      <td>6.91</td>\n",
       "    </tr>\n",
       "    <tr>\n",
       "      <th>5</th>\n",
       "      <td>Ivybridge</td>\n",
       "      <td>GB</td>\n",
       "      <td>2021-12-01 23:49:05</td>\n",
       "      <td>50.3904</td>\n",
       "      <td>-3.9191</td>\n",
       "      <td>40.57</td>\n",
       "      <td>87</td>\n",
       "      <td>25</td>\n",
       "      <td>8.52</td>\n",
       "    </tr>\n",
       "  </tbody>\n",
       "</table>\n",
       "</div>"
      ],
      "text/plain": [
       "                City Country                 Date      Lat       Lng  \\\n",
       "0  Krasnaya Gorbatka      RU  2021-12-01 23:49:04  55.8703   41.7641   \n",
       "2                Leh      IN  2021-12-01 23:49:04  34.1667   77.5833   \n",
       "3     Severo-Kurilsk      RU  2021-12-01 23:49:05  50.6789  156.1250   \n",
       "4           La Ronge      CA  2021-12-01 23:49:05  55.1001 -105.2842   \n",
       "5          Ivybridge      GB  2021-12-01 23:49:05  50.3904   -3.9191   \n",
       "\n",
       "   Max Temp  Humidity  Cloudiness  Wind Speed  \n",
       "0     24.37        75         100       11.18  \n",
       "2     18.97        50          97        3.02  \n",
       "3     42.03        91         100       20.85  \n",
       "4     14.25        85          90        6.91  \n",
       "5     40.57        87          25        8.52  "
      ]
     },
     "execution_count": 30,
     "metadata": {},
     "output_type": "execute_result"
    }
   ],
   "source": [
    "city_data_df.loc[(city_data_df[\"Lat\"] >= 0)].head()"
   ]
  },
  {
   "cell_type": "markdown",
   "id": "56396262-e707-4fcf-a06d-0acbca5b2cf8",
   "metadata": {},
   "source": [
    "Now assign this DataFrame to the variable northern_hemi_df to access the data to perform linear regression.\n",
    "\n",
    "We can take the same approach to get the cities for the Southern Hemisphere by filtering the city_data_df DataFrame for latitudes less than 0.\n",
    "\n",
    "To create DataFrames for the Northern and Southern Hemispheres' data, add the code to a new cell and run the code.m"
   ]
  },
  {
   "cell_type": "code",
   "execution_count": 32,
   "id": "ea5936bd-821a-48ef-8f51-8f35c324d2c5",
   "metadata": {},
   "outputs": [],
   "source": [
    "# Create Northern and Southern Hemisphere DataFrames.\n",
    "northern_hemi_df = city_data_df.loc[(city_data_df[\"Lat\"] >= 0)]\n",
    "southern_hemi_df = city_data_df.loc[(city_data_df[\"Lat\"] < 0)]"
   ]
  },
  {
   "cell_type": "markdown",
   "id": "cc24851e-3d47-40ee-90dd-d199f466a054",
   "metadata": {},
   "source": [
    "### Perform Linear Regression on the Maximum Temperature for the Northern Hemisphere\n",
    "\n",
    "To generate the linear regression on the maximum temperature for the Northern Hemisphere, we'll need x and y values. Set the x values equal to the latitude column and the y values equal to the maximum temperature column from the northern_hemi_df DataFrame.\n",
    "\n",
    "Call the plot_linear_regression function with the x and y values, and edit the title, y_label, and text_coordinates for the maximum temperature scatter plot. Add the code to a new cell and run it to generate the linear regression and plot the data."
   ]
  },
  {
   "cell_type": "code",
   "execution_count": 36,
   "id": "e0d3df35-c9fd-475f-afa8-e4ce2912decf",
   "metadata": {},
   "outputs": [
    {
     "data": {
      "image/png": "[encoded data removed]",
      "text/plain": [
       "<Figure size 432x288 with 1 Axes>"
      ]
     },
     "metadata": {
      "needs_background": "light"
     },
     "output_type": "display_data"
    }
   ],
   "source": [
    "# Linear regression on the Northern Hemisphere\n",
    "x_values = northern_hemi_df[\"Lat\"]\n",
    "y_values = northern_hemi_df[\"Max Temp\"]\n",
    "# Call the function.\n",
    "plot_linear_regression(x_values, y_values,\n",
    "                       'Linear Regression on the Northern Hemisphere for Maximum Temperature', 'Max Temp',(0, -20))"
   ]
  },
  {
   "cell_type": "markdown",
   "id": "3a1137ee-cbfb-4f4a-b4af-ece22042cb37",
   "metadata": {},
   "source": [
    "### Perform Linear Regression on the Maximum Temperature for the Northern Hemisphere"
   ]
  },
  {
   "cell_type": "code",
   "execution_count": 39,
   "id": "d4383c5e-3800-485f-b91a-251b7c3d7258",
   "metadata": {},
   "outputs": [
    {
     "data": {
      "image/png": "[encoded data removed]",
      "text/plain": [
       "<Figure size 432x288 with 1 Axes>"
      ]
     },
     "metadata": {
      "needs_background": "light"
     },
     "output_type": "display_data"
    }
   ],
   "source": [
    "# Linear regression on the Northern Hemisphere\n",
    "x_values = southern_hemi_df[\"Lat\"]\n",
    "y_values = southern_hemi_df[\"Max Temp\"]\n",
    "# Call the function.\n",
    "plot_linear_regression(x_values, y_values,\n",
    "                       'Linear Regression on the Southern Hemisphere for Maximum Temperature', 'Max Temp',(-50, 90))"
   ]
  },
  {
   "cell_type": "markdown",
   "id": "23cc35cb-081d-4357-a8e9-b576a3ac40af",
   "metadata": {},
   "source": [
    "FINDING: The correlation between the latitude and the maximum temperature is strong to very strong because the r-value is less than –0.7 for the Northern Hemisphere and greater than 0.7 for the Southern Hemisphere, as shown by the plots here. This means that as we approach the equator, 0° latitude, the temperatures become warmer. And when we are further from the equator the temperatures become cooler. Check the r-values for your plots"
   ]
  },
  {
   "cell_type": "markdown",
   "id": "cedf723f-0ac4-4715-b297-d2372715d460",
   "metadata": {},
   "source": [
    "### Perform Linear Regression on the Percent Humidity for the Northern Hemisphere"
   ]
  },
  {
   "cell_type": "code",
   "execution_count": 41,
   "id": "e8968381-fbca-402f-b48c-a12d4bafaf06",
   "metadata": {},
   "outputs": [
    {
     "data": {
      "image/png": "[encoded data removed]",
      "text/plain": [
       "<Figure size 432x288 with 1 Axes>"
      ]
     },
     "metadata": {
      "needs_background": "light"
     },
     "output_type": "display_data"
    }
   ],
   "source": [
    "# Linear regression on the Northern Hemisphere\n",
    "x_values = northern_hemi_df[\"Lat\"]\n",
    "y_values = northern_hemi_df[\"Humidity\"]\n",
    "# Call the function.\n",
    "plot_linear_regression(x_values, y_values,\n",
    "                       'Linear Regression on the Northern Hemisphere for % Humidity', '% Humidity',(40,10))"
   ]
  },
  {
   "cell_type": "markdown",
   "id": "9cf3af0e-d467-471c-8613-b058528a50ad",
   "metadata": {},
   "source": [
    "### Perform Linear Regression on the Percent Humidity for the Southern Hemisphere"
   ]
  },
  {
   "cell_type": "code",
   "execution_count": 43,
   "id": "4cf0e92a-762d-4ca6-9f4a-400075fe1e59",
   "metadata": {},
   "outputs": [
    {
     "data": {
      "image/png": "[encoded data removed]",
      "text/plain": [
       "<Figure size 432x288 with 1 Axes>"
      ]
     },
     "metadata": {
      "needs_background": "light"
     },
     "output_type": "display_data"
    }
   ],
   "source": [
    "# Linear regression on the Southern Hemisphere\n",
    "x_values = southern_hemi_df[\"Lat\"]\n",
    "y_values = southern_hemi_df[\"Humidity\"]\n",
    "# Call the function.\n",
    "plot_linear_regression(x_values, y_values,\n",
    "                       'Linear Regression on the Southern Hemisphere for % Humidity', '% Humidity',(-50,15))"
   ]
  },
  {
   "cell_type": "markdown",
   "id": "4b53f364-592c-4f01-a95d-2703a25dae27",
   "metadata": {},
   "source": [
    "### Perform Linear Regression on the Percent Cloudiness for the Northern Hemisphere"
   ]
  },
  {
   "cell_type": "code",
   "execution_count": 44,
   "id": "274092fb-1ea4-4edb-86e7-33971e1d3d19",
   "metadata": {},
   "outputs": [
    {
     "data": {
      "image/png": "[encoded data removed]",
      "text/plain": [
       "<Figure size 432x288 with 1 Axes>"
      ]
     },
     "metadata": {
      "needs_background": "light"
     },
     "output_type": "display_data"
    }
   ],
   "source": [
    "# Linear regression on the Northern Hemisphere\n",
    "x_values = northern_hemi_df[\"Lat\"]\n",
    "y_values = northern_hemi_df[\"Cloudiness\"]\n",
    "# Call the function.\n",
    "plot_linear_regression(x_values, y_values,\n",
    "                       'Linear Regression on the Northern Hemisphere for % Cloudiness', '% Cloudiness',(40,10))"
   ]
  },
  {
   "cell_type": "markdown",
   "id": "263b3ec8-42e7-4912-8276-d4837ecd1b6f",
   "metadata": {},
   "source": [
    "### Perform Linear Regression on the Percent Cloudiness for the Southern Hemisphere\n"
   ]
  },
  {
   "cell_type": "code",
   "execution_count": 46,
   "id": "a42e1c32-7248-44ae-9805-77d6bd82732a",
   "metadata": {},
   "outputs": [
    {
     "data": {
      "image/png": "[encoded data removed]",
      "text/plain": [
       "<Figure size 432x288 with 1 Axes>"
      ]
     },
     "metadata": {
      "needs_background": "light"
     },
     "output_type": "display_data"
    }
   ],
   "source": [
    "# Linear regression on the Northern Hemisphere\n",
    "x_values = southern_hemi_df[\"Lat\"]\n",
    "y_values = southern_hemi_df[\"Cloudiness\"]\n",
    "# Call the function.\n",
    "plot_linear_regression(x_values, y_values,\n",
    "                       'Linear Regression on the Northern Hemisphere for % Cloudiness', '% Cloudiness',(-50,20))"
   ]
  },
  {
   "cell_type": "markdown",
   "id": "bab42d32-679f-4233-8666-0143c1f23255",
   "metadata": {},
   "source": [
    "### Perform Linear Regression on the Wind Speed for the Northern Hemisphere"
   ]
  },
  {
   "cell_type": "code",
   "execution_count": 47,
   "id": "14894163-391c-4892-a408-5b5d9dba59dc",
   "metadata": {},
   "outputs": [
    {
     "data": {
      "image/png": "[encoded data removed]",
      "text/plain": [
       "<Figure size 432x288 with 1 Axes>"
      ]
     },
     "metadata": {
      "needs_background": "light"
     },
     "output_type": "display_data"
    }
   ],
   "source": [
    "# Linear regression on the Northern Hemisphere\n",
    "x_values = northern_hemi_df[\"Lat\"]\n",
    "y_values = northern_hemi_df[\"Wind Speed\"]\n",
    "# Call the function.\n",
    "plot_linear_regression(x_values, y_values,\n",
    "                       'Linear Regression on the Northern Hemisphere for Wind Speed', 'Wind Speed',(40,35))"
   ]
  },
  {
   "cell_type": "markdown",
   "id": "7992906e-8269-4745-87d4-d91eda588c3c",
   "metadata": {},
   "source": [
    "### Perform Linear Regression on the Wind Speed for the Southern Hemisphere"
   ]
  },
  {
   "cell_type": "code",
   "execution_count": 48,
   "id": "a2b74806-7ec2-491f-a559-396b461e480b",
   "metadata": {},
   "outputs": [
    {
     "data": {
      "image/png": "[encoded data removed]",
      "text/plain": [
       "<Figure size 432x288 with 1 Axes>"
      ]
     },
     "metadata": {
      "needs_background": "light"
     },
     "output_type": "display_data"
    }
   ],
   "source": [
    "# Linear regression on the Southern Hemisphere\n",
    "x_values = southern_hemi_df[\"Lat\"]\n",
    "y_values = southern_hemi_df[\"Wind Speed\"]\n",
    "# Call the function.\n",
    "plot_linear_regression(x_values, y_values,\n",
    "                       'Linear Regression on the Southern Hemisphere for Wind Speed', 'Wind Speed',(-50,35))"
   ]
  },
  {
   "cell_type": "code",
   "execution_count": null,
   "id": "ed65c018-7a73-4fe4-8a91-12624e5dfb9e",
   "metadata": {},
   "outputs": [],
   "source": []
  }
 ],
 "metadata": {
  "kernelspec": {
   "display_name": "PythonData",
   "language": "python",
   "name": "pythondata"
  },
  "language_info": {
   "codemirror_mode": {
    "name": "ipython",
    "version": 3
   },
   "file_extension": ".py",
   "mimetype": "text/x-python",
   "name": "python",
   "nbconvert_exporter": "python",
   "pygments_lexer": "ipython3",
   "version": "3.7.10"
  }
 },
 "nbformat": 4,
 "nbformat_minor": 5
}
