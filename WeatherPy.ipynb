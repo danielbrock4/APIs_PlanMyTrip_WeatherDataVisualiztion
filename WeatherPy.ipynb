{
 "cells": [
  {
   "cell_type": "markdown",
   "id": "437f3a71-74c7-4f40-8e20-51ce9f6cfc91",
   "metadata": {},
   "source": [
    "### Create Latitude and Longitude Combinations"
   ]
  },
  {
   "cell_type": "code",
   "execution_count": 1,
   "id": "6c3f216c-644c-415f-a1d5-0c1063f2897e",
   "metadata": {},
   "outputs": [],
   "source": [
    "# Import the dependencies.\n",
    "import pandas as pd\n",
    "import numpy as np\n",
    "import matplotlib.pyplot as plt\n",
    "\n",
    "# Use the citipy module to determine city based on latitude and longitude.\n",
    "    # Under \"Looking up with coordinates,\" the first line says from citipy import citipy, meaning we'll import the citipy script from the citipy module.\n",
    "    # When a Python file containing a script is imported to use in another Python script, the .py extension does not need to be added to the name of the file when using the import statement.    \n",
    "from citipy import citipy"
   ]
  },
  {
   "cell_type": "markdown",
   "id": "68d64932-93f4-4281-a85a-63025369b681",
   "metadata": {},
   "source": [
    "Since we are creating arrays of latitudes and longitudes, we'll declare each array as a variable. In the next cell, add the following code that we used to generate the random latitudes. Also, we'll create a similar code snippet that will generate longitudes. To ensure enough latitudes and longitudes, we'll start with 1,500. In addition, we'll pack the latitudes (lats) and longitudes (lngs) as pairs by zipping them (lat_lngs) with the zip() function.\n",
    "\n",
    "When we run this cell, the output is a zip object in memory. The zip object packs each pair of lats and lngs having the same index in their respective array into a tuple. If there are 1,500 latitudes and longitudes, there will be 1,500 tuples of paired latitudes and longitudes, where each latitude and longitude in a tuple can be accessed by the index of 0 and 1, respectively."
   ]
  },
  {
   "cell_type": "code",
   "execution_count": 2,
   "id": "aecf69ca-efbb-4180-ae2f-067144b21229",
   "metadata": {},
   "outputs": [
    {
     "data": {
      "text/plain": [
       "<zip at 0x176d390b848>"
      ]
     },
     "execution_count": 2,
     "metadata": {},
     "output_type": "execute_result"
    }
   ],
   "source": [
    "# Create a set of random latitude and longitude combinations.\n",
    "    # 1) Create arrays of latitudes and longitudes, we'll declare each array as a variable. \n",
    "    # 2) Use Numpty random uniform because its faster to generate the random latitudes and longtitudes.\n",
    "            # To generate more than one floating-point decimal number between –90 and 90, we can add the size parameter when we use the NumPy module and set that equal to any whole number.\n",
    "    # 3) Use zip() we'll pack the latitudes (lats) and longitudes (lngs) as pairs by zipping them (lat_lngs) with the zip() function.\n",
    "\n",
    "lats = np.random.uniform(low=-90.00, high=90.000, size=1500)\n",
    "lngs = np.random.uniform(-180.000, 180.000, size=1500)\n",
    "lats_lngs = zip(lats, lngs)\n",
    "lats_lngs "
   ]
  },
  {
   "cell_type": "markdown",
   "id": "59894772-d1fd-4238-b4b2-def76d032d9b",
   "metadata": {},
   "source": [
    "Next, let's unpack our lat_lngs zip object into a list. This way, we only need to create a set of random latitudes and longitudes once. \n",
    "You can only unzip a zipped tuple once before it is removed from the computer's memory. Make sure you unzip the latitudes and longitudes into the coordinates list before moving on."
   ]
  },
  {
   "cell_type": "code",
   "execution_count": 3,
   "id": "61734443-ae03-4f21-aaa3-c2949809faea",
   "metadata": {},
   "outputs": [
    {
     "data": {
      "text/plain": [
       "[(80.85556417742058, -91.3069545360251),\n",
       " (6.012940475387325, 21.170453306497734),\n",
       " (44.12302879375588, 124.70527188446965)]"
      ]
     },
     "execution_count": 3,
     "metadata": {},
     "output_type": "execute_result"
    }
   ],
   "source": [
    "# Add the latitudes and longitudes to a list.\n",
    "coordinates = list(lats_lngs)\n",
    "coordinates[:3]"
   ]
  },
  {
   "cell_type": "markdown",
   "id": "d2fbf81e-f0d4-43d6-bb47-231184311dae",
   "metadata": {},
   "source": [
    "Iterate through our zipped lat_lngs tuple and find the nearest city. When we find a city, we'll need to add it to a list so that we can use the cities to get the weather data."
   ]
  },
  {
   "cell_type": "code",
   "execution_count": 5,
   "id": "98415008-b914-466c-b2ec-4f5ac58c9850",
   "metadata": {},
   "outputs": [
    {
     "data": {
      "text/plain": [
       "610"
      ]
     },
     "execution_count": 5,
     "metadata": {},
     "output_type": "execute_result"
    }
   ],
   "source": [
    "#1) Create a cities list to store city names.\n",
    "#2) Using a for loop, iterate through the coordinates' zipped tuple.\n",
    "#3) Use citipy.nearest_city() and inside the parentheses of nearest_city(), add the latitude and longitude in this format: coordinate[0], coordinate[1].\n",
    "    # The citipy module finds the nearest city to the latitude and longitude pair with a population of 500 or more.\n",
    "    #3a) Because of the zip function The zip object packs each pair of lats and lngs having the same index in their respective array into a tuple. Where each latitude and longitude in a tuple can be       accessed by the index of 0 and 1\n",
    "#4) To print the city name, chain the city_name to the nearest_city() function.\n",
    "#5) We add a decision statement with the logical operator not in to determine whether the found city is already in the cities list. If not, then we'll use the append() function to add it. \n",
    "    # We are doing this because among the 1,500 latitudes and longitudes, there might be duplicates, which will retrieve duplicate cities, and we want to be sure we capture only the unique cities.\n",
    "\n",
    "# Create a list for holding the cities.\n",
    "cities = []\n",
    "# Identify the nearest city for each latitude and longitude combination.\n",
    "for coordinate in coordinates:\n",
    "    city = citipy.nearest_city(coordinate[0], coordinate[1]).city_name\n",
    "    # If the city is unique, then we will add it to the cities list.\n",
    "    if city not in cities:\n",
    "        cities.append(city)\n",
    "# Print the city count to confirm sufficient count.\n",
    "len(cities)    "
   ]
  },
  {
   "cell_type": "code",
   "execution_count": null,
   "id": "7e0790f8-523f-4630-a9d3-a84e94165dff",
   "metadata": {},
   "outputs": [],
   "source": [
    "# 1)\n",
    "# 2)\n",
    "# 3)\n",
    "# 4) \n",
    "# 5)"
   ]
  }
 ],
 "metadata": {
  "kernelspec": {
   "display_name": "PythonData",
   "language": "python",
   "name": "pythondata"
  },
  "language_info": {
   "codemirror_mode": {
    "name": "ipython",
    "version": 3
   },
   "file_extension": ".py",
   "mimetype": "text/x-python",
   "name": "python",
   "nbconvert_exporter": "python",
   "pygments_lexer": "ipython3",
   "version": "3.7.10"
  }
 },
 "nbformat": 4,
 "nbformat_minor": 5
}
